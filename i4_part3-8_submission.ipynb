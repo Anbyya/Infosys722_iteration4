{
 "cells": [
  {
   "cell_type": "markdown",
   "id": "5d263562",
   "metadata": {},
   "source": [
    "# Qiong Zhou / qzho906 / Infosys 722 Iteration4"
   ]
  },
  {
   "cell_type": "code",
   "execution_count": 2,
   "id": "c450f64e",
   "metadata": {},
   "outputs": [
    {
     "name": "stderr",
     "output_type": "stream",
     "text": [
      "WARNING: An illegal reflective access operation has occurred\n",
      "WARNING: Illegal reflective access by org.apache.spark.unsafe.Platform (file:/home/ubuntu/spark-3.2.1-bin-hadoop2.7/jars/spark-unsafe_2.12-3.2.1.jar) to constructor java.nio.DirectByteBuffer(long,int)\n",
      "WARNING: Please consider reporting this to the maintainers of org.apache.spark.unsafe.Platform\n",
      "WARNING: Use --illegal-access=warn to enable warnings of further illegal reflective access operations\n",
      "WARNING: All illegal access operations will be denied in a future release\n",
      "Using Spark's default log4j profile: org/apache/spark/log4j-defaults.properties\n",
      "Setting default log level to \"WARN\".\n",
      "To adjust logging level use sc.setLogLevel(newLevel). For SparkR, use setLogLevel(newLevel).\n",
      "22/10/15 22:25:57 WARN NativeCodeLoader: Unable to load native-hadoop library for your platform... using builtin-java classes where applicable\n"
     ]
    }
   ],
   "source": [
    "#Initialization the pyspark envionment, \n",
    "#it will be named i4 and used for the assignment.\n",
    "# Must be included at the beginning of each new notebook.\n",
    "import findspark\n",
    "findspark.init('/home/ubuntu/spark-3.2.1-bin-hadoop2.7')\n",
    "import pyspark as ps\n",
    "from pyspark.sql import SparkSession\n",
    "spark = SparkSession.builder.appName('i4').getOrCreate()"
   ]
  },
  {
   "cell_type": "code",
   "execution_count": 3,
   "id": "a77f80cd",
   "metadata": {},
   "outputs": [
    {
     "name": "stderr",
     "output_type": "stream",
     "text": [
      "                                                                                \r"
     ]
    },
    {
     "name": "stdout",
     "output_type": "stream",
     "text": [
      "Raw data, there are 43400 instances.\n",
      "root\n",
      " |-- id: string (nullable = true)\n",
      " |-- gender: string (nullable = true)\n",
      " |-- age: string (nullable = true)\n",
      " |-- hypertension: string (nullable = true)\n",
      " |-- heart_disease: string (nullable = true)\n",
      " |-- ever_married: string (nullable = true)\n",
      " |-- work_type: string (nullable = true)\n",
      " |-- Residence_type: string (nullable = true)\n",
      " |-- avg_glucose_level: string (nullable = true)\n",
      " |-- bmi: string (nullable = true)\n",
      " |-- smoking_status: string (nullable = true)\n",
      " |-- stroke: string (nullable = true)\n",
      "\n"
     ]
    },
    {
     "data": {
      "text/plain": [
       "['id',\n",
       " 'gender',\n",
       " 'age',\n",
       " 'hypertension',\n",
       " 'heart_disease',\n",
       " 'ever_married',\n",
       " 'work_type',\n",
       " 'Residence_type',\n",
       " 'avg_glucose_level',\n",
       " 'bmi',\n",
       " 'smoking_status',\n",
       " 'stroke']"
      ]
     },
     "execution_count": 3,
     "metadata": {},
     "output_type": "execute_result"
    }
   ],
   "source": [
    "# Read in the data. Note that it's in the format of csv.\n",
    "#Load csv file into spark and evaluate the status of it.\n",
    "df = spark.read.csv(\"./train_strokes.csv\", header = \"true\")\n",
    "print(\"Raw data, there are\", df.count(),\"instances.\")\n",
    "df.printSchema()\n",
    "df.columns"
   ]
  },
  {
   "cell_type": "markdown",
   "id": "4e23ee91",
   "metadata": {},
   "source": [
    "# Section 3 Data Preparation"
   ]
  },
  {
   "cell_type": "markdown",
   "id": "26625bef",
   "metadata": {},
   "source": [
    "Iteration 4 / 3.1 Data Selection"
   ]
  },
  {
   "cell_type": "code",
   "execution_count": 4,
   "id": "9e92022b",
   "metadata": {},
   "outputs": [
    {
     "name": "stdout",
     "output_type": "stream",
     "text": [
      "Number of Instances before selection:  43400\n",
      "Number of Stroke Instances before selection:  783\n",
      "Number of Non-Stroke Instances before selection:  42617\n"
     ]
    }
   ],
   "source": [
    "# step 1, row selection, keep all rows\n",
    "# step 2, column selection: drop Residence_type\n",
    "\n",
    "print(\"Number of Instances before selection: \",df.count())\n",
    "\n",
    "strokeData = df.filter(\"stroke == 1\")\n",
    "nonStrokeData = df.filter(\"stroke == 0\")\n",
    "\n",
    "print(\"Number of Stroke Instances before selection: \",strokeData.count())\n",
    "print(\"Number of Non-Stroke Instances before selection: \",nonStrokeData.count())"
   ]
  },
  {
   "cell_type": "code",
   "execution_count": 5,
   "id": "c158b415",
   "metadata": {},
   "outputs": [
    {
     "name": "stdout",
     "output_type": "stream",
     "text": [
      "Raw data number of Columns:  12\n",
      "Raw data Columns:  ['id', 'gender', 'age', 'hypertension', 'heart_disease', 'ever_married', 'work_type', 'Residence_type', 'avg_glucose_level', 'bmi', 'smoking_status', 'stroke']\n",
      "Selected data number of Columns:  11\n",
      "Selected data Columns:  ['id', 'gender', 'age', 'hypertension', 'heart_disease', 'ever_married', 'work_type', 'avg_glucose_level', 'bmi', 'smoking_status', 'stroke']\n"
     ]
    }
   ],
   "source": [
    "# Do column selection\n",
    "print(\"Raw data number of Columns: \", len(df.columns))\n",
    "print(\"Raw data Columns: \", df.columns)\n",
    "\n",
    "selectedData = df.drop(\"Residence_type\")\n",
    "\n",
    "print(\"Selected data number of Columns: \", len(selectedData.columns))\n",
    "print(\"Selected data Columns: \", selectedData.columns)"
   ]
  },
  {
   "cell_type": "markdown",
   "id": "3bf290a4",
   "metadata": {},
   "source": [
    "Iteration 4 / 3.2 Data Cleaning"
   ]
  },
  {
   "cell_type": "code",
   "execution_count": 6,
   "id": "5dae0e59",
   "metadata": {
    "scrolled": true
   },
   "outputs": [
    {
     "name": "stdout",
     "output_type": "stream",
     "text": [
      "43400\n"
     ]
    }
   ],
   "source": [
    "#temp\n",
    "print(selectedData.count())"
   ]
  },
  {
   "cell_type": "code",
   "execution_count": 7,
   "id": "86dcdbbe",
   "metadata": {},
   "outputs": [],
   "source": [
    "# Check which column has null value\n",
    "#missing_status = selectedData.isNull(raw_data)\n",
    "#print(missing_status.any())"
   ]
  },
  {
   "cell_type": "code",
   "execution_count": 8,
   "id": "0262b7e5",
   "metadata": {},
   "outputs": [
    {
     "name": "stdout",
     "output_type": "stream",
     "text": [
      "Number of Nulls before removal (BMI):  1462\n",
      "28.605038390004545\n",
      "Number of Nulls after removal (BMI):  0\n"
     ]
    }
   ],
   "source": [
    "# Remove empty values for BMI using FILL function with average BMI value\n",
    "\n",
    "from pyspark.sql.functions import col, when\n",
    "print(\"Number of Nulls before removal (BMI): \", selectedData.filter(\"bmi is null\").count())\n",
    "# Use your sales average to fill missing data. \n",
    "from pyspark.sql.functions import mean\n",
    "\n",
    "# Let's collect the average. You'll notice that the collection returns the average in an interesting format.\n",
    "mean_bmi = selectedData.select(mean(selectedData['bmi'])).collect()\n",
    "mean_bmi = mean_bmi[0][0]\n",
    "print(mean_bmi)\n",
    "\n",
    "# And finally, fill the missing values with the mean.\n",
    "selectedData = selectedData.fillna(str(mean_bmi), subset='bmi')\n",
    "# selectedData = selectedData.fillna(random.choice(options), subset = \"smoking_status\")\n",
    "\n",
    "\n",
    "\n",
    "#selectedData = selectedData.na.drop(subset = \"bmi\")\n",
    "\n",
    "print(\"Number of Nulls after removal (BMI): \", selectedData.filter(\"bmi is null\").count())"
   ]
  },
  {
   "cell_type": "code",
   "execution_count": 9,
   "id": "77b88560",
   "metadata": {},
   "outputs": [],
   "source": [
    "# selectedData.show(n=300)"
   ]
  },
  {
   "cell_type": "code",
   "execution_count": 10,
   "id": "93b9bfe1",
   "metadata": {},
   "outputs": [],
   "source": [
    "# from pyspark.sql.functions import col, when\n",
    "# print(\"Number of Nulls before removal (BMI): \", selectedData.filter(\"bmi is null or bmi == 'N/A'\").count())\n",
    "\n",
    "# selectedData = selectedData.withColumn(\"bmi\", when(col(\"bmi\") == \"N/A\", None).otherwise(col(\"bmi\")))\n",
    "# selectedData = selectedData.na.drop(subset = \"bmi\")\n",
    "\n",
    "# print(\"Number of Nulls after removal (BMI): \", selectedData.filter(\"bmi is null or bmi == 'N/A'\").count())"
   ]
  },
  {
   "cell_type": "code",
   "execution_count": 11,
   "id": "1c414c88",
   "metadata": {},
   "outputs": [
    {
     "name": "stdout",
     "output_type": "stream",
     "text": [
      "Number of Nulls before removal (smoking_status):  13292\n",
      "Number of Nulls after removal (smoking_status):  0\n",
      "smoking_status Values Available: \n",
      "+---------------+\n",
      "| smoking_status|\n",
      "+---------------+\n",
      "|         smokes|\n",
      "|   never smoked|\n",
      "|formerly smoked|\n",
      "+---------------+\n",
      "\n"
     ]
    }
   ],
   "source": [
    "import random\n",
    "print(\"Number of Nulls before removal (smoking_status): \", selectedData.filter(\"smoking_status is null or smoking_status == 'Unknown'\").count())\n",
    "\n",
    "options = ['formerly smoked', 'never smoked', 'smokes']\n",
    "# selectedData = selectedData.withColumn(\"smoking_status\", when(col(\"smoking_status\") == \"Unknown\", None).otherwise(col(\"smoking_status\")))\n",
    "selectedData = selectedData.dropna(subset='smoking_status')\n",
    "\n",
    "print(\"Number of Nulls after removal (smoking_status): \", selectedData.filter(\"smoking_status is null or smoking_status == 'Unknown'\").count())\n",
    "print(\"smoking_status Values Available: \")\n",
    "selectedData.select(\"smoking_status\").distinct().show()"
   ]
  },
  {
   "cell_type": "code",
   "execution_count": 12,
   "id": "3e0f5e85",
   "metadata": {},
   "outputs": [],
   "source": [
    "# selectedData.show(n=100)"
   ]
  },
  {
   "cell_type": "code",
   "execution_count": 13,
   "id": "a08d1989",
   "metadata": {},
   "outputs": [
    {
     "name": "stdout",
     "output_type": "stream",
     "text": [
      "root\n",
      " |-- id: string (nullable = true)\n",
      " |-- gender: string (nullable = true)\n",
      " |-- age: double (nullable = true)\n",
      " |-- hypertension: string (nullable = true)\n",
      " |-- heart_disease: string (nullable = true)\n",
      " |-- ever_married: string (nullable = true)\n",
      " |-- work_type: string (nullable = true)\n",
      " |-- avg_glucose_level: double (nullable = true)\n",
      " |-- bmi: double (nullable = true)\n",
      " |-- smoking_status: string (nullable = true)\n",
      " |-- stroke: string (nullable = true)\n",
      "\n"
     ]
    }
   ],
   "source": [
    "# Remove outliers of attributes\n",
    "# Convert Schema of each attributes\n",
    "from pyspark.sql.functions import col\n",
    "from pyspark.sql.types import (StructField,DoubleType,StringType,IntegerType)\n",
    "\n",
    "missing_removedData = selectedData.withColumn(\"bmi\",col(\"bmi\").cast(DoubleType())) \\\n",
    "    .withColumn(\"age\",col(\"age\").cast(DoubleType())) \\\n",
    "    .withColumn(\"avg_glucose_level\",col(\"avg_glucose_level\").cast(DoubleType()))\n",
    "missing_removedData.printSchema()"
   ]
  },
  {
   "cell_type": "code",
   "execution_count": 14,
   "id": "c7ddfbbd",
   "metadata": {},
   "outputs": [
    {
     "name": "stderr",
     "output_type": "stream",
     "text": [
      "                                                                                \r"
     ]
    },
    {
     "data": {
      "text/plain": [
       "<AxesSubplot:>"
      ]
     },
     "execution_count": 14,
     "metadata": {},
     "output_type": "execute_result"
    },
    {
     "data": {
      "image/png": "[encoded data removed]",
      "text/plain": [
       "<Figure size 432x288 with 1 Axes>"
      ]
     },
     "metadata": {
      "needs_background": "light"
     },
     "output_type": "display_data"
    }
   ],
   "source": [
    "# BMI BMI BMI BMI BMI BMI BMI\n",
    "# BEFORE ---- WITH OUTLIER BOXPLOT\n",
    "import pandas as pd\n",
    "elementsToCheck = \"bmi\"\n",
    "selectedDataPd = missing_removedData.toPandas()\n",
    "selectedDataPd.boxplot(column=[elementsToCheck])"
   ]
  },
  {
   "cell_type": "code",
   "execution_count": 15,
   "id": "9381ab20",
   "metadata": {},
   "outputs": [],
   "source": [
    "# avg_glucose_level\n",
    "# BEFORE ---- WITH OUTLIER BOXPLOT\n",
    "#elementsToCheck = \"avg_glucose_level\"\n",
    "#selectedDataPd = missing_removedData.toPandas()\n",
    "#selectedDataPd.boxplot(column=[elementsToCheck])"
   ]
  },
  {
   "cell_type": "code",
   "execution_count": 16,
   "id": "efbcf108",
   "metadata": {},
   "outputs": [
    {
     "name": "stdout",
     "output_type": "stream",
     "text": [
      "Number of instances before removal:  30108\n",
      "7.383085537192056 49.82699124281703\n",
      "Number of Outliers / Extemes (BEFORE):  468\n",
      "Number of exteme removed:  468\n",
      "Number of instances after removal:  29640\n"
     ]
    }
   ],
   "source": [
    "# Print out the boxplot before removal\n",
    "# APPLYING FILTERS\n",
    "from pyspark.sql.functions import countDistinct,avg,stddev,format_number\n",
    "\n",
    "std_bmi = missing_removedData.select(stddev(\"bmi\"))\n",
    "# std_bmi.show()\n",
    "std_bmi = std_bmi.collect()\n",
    "std_bmi = std_bmi[0][0]\n",
    "\n",
    "beforeCount = missing_removedData.select(elementsToCheck).count()\n",
    "print(\"Number of instances before removal: \",beforeCount)\n",
    "\n",
    "\n",
    "# CHECK NUMBER OF OUTLIER/EXTREMES\n",
    "# quantiles = selectedData.stat.approxQuantile(elementsToCheck, [0.3,0.7],0.0)\n",
    "# IQR = quantiles[1] - quantiles[0]\n",
    "# print(quantiles[0],quantiles[1])\n",
    "LowerRange = max(0, mean_bmi - 3 * std_bmi)\n",
    "UpperRange = mean_bmi + 3 * std_bmi\n",
    "print(LowerRange,UpperRange)\n",
    "\n",
    "query = elementsToCheck + \" < \" + str(LowerRange) + \" or \" + elementsToCheck + \" >\" + str(UpperRange)\n",
    "\n",
    "beforeCount = missing_removedData.count()\n",
    "print(\"Number of Outliers / Extemes (BEFORE): \",missing_removedData.filter(query).count())\n",
    "\n",
    "missing_removedData = missing_removedData.filter('not(' + query + ')')\n",
    "print(\"Number of exteme removed: \",beforeCount - missing_removedData.select(elementsToCheck).count())\n",
    "\n",
    "print(\"Number of instances after removal: \",missing_removedData.count())"
   ]
  },
  {
   "cell_type": "code",
   "execution_count": 17,
   "id": "c344ad81",
   "metadata": {},
   "outputs": [],
   "source": [
    "# AFTER ---- BMI WITHOUTLIER OUTLIER BOXPLOT\n",
    "#import pandas as pd\n",
    "#missing_removedDataPd = missing_removedData.toPandas()\n",
    "#missing_removedDataPd.boxplot(column=[\"bmi\"])"
   ]
  },
  {
   "cell_type": "code",
   "execution_count": 18,
   "id": "70eb749f",
   "metadata": {},
   "outputs": [
    {
     "name": "stdout",
     "output_type": "stream",
     "text": [
      "106.85688663967561\n",
      "Number of instances before removal:  29640\n",
      "0 243.81623773520442\n",
      "Number of Outliers / Extemes (BEFORE):  241\n",
      "Number of exteme removed:  241\n",
      "Number of instances after removal:  29399\n"
     ]
    }
   ],
   "source": [
    "# Print out the boxplot before removal\n",
    "# APPLYING FILTERS\n",
    "elementsToCheck = 'avg_glucose_level'\n",
    "mean_glucose_level = missing_removedData.select(mean(missing_removedData['avg_glucose_level'])).collect()\n",
    "mean_glucose_level = mean_glucose_level[0][0]\n",
    "print(mean_glucose_level)\n",
    "\n",
    "std_glucose_level = missing_removedData.select(stddev(\"avg_glucose_level\"))\n",
    "# std_bmi.show()\n",
    "std_glucose_level = std_glucose_level.collect()\n",
    "std_glucose_level = std_glucose_level[0][0]\n",
    "\n",
    "beforeCount = missing_removedData.select(elementsToCheck).count()\n",
    "print(\"Number of instances before removal: \",beforeCount)\n",
    "\n",
    "\n",
    "# CHECK NUMBER OF OUTLIER/EXTREMES\n",
    "# quantiles = selectedData.stat.approxQuantile(elementsToCheck, [0.3,0.7],0.0)\n",
    "# IQR = quantiles[1] - quantiles[0]\n",
    "# print(quantiles[0],quantiles[1])\n",
    "LowerRange = max(0, mean_glucose_level - 3 * std_glucose_level)\n",
    "UpperRange = mean_glucose_level + 3 * std_glucose_level\n",
    "print(LowerRange,UpperRange)\n",
    "\n",
    "query = elementsToCheck + \" < \" + str(LowerRange) + \" or \" + elementsToCheck + \" >\" + str(UpperRange)\n",
    "\n",
    "beforeCount = missing_removedData.count()\n",
    "print(\"Number of Outliers / Extemes (BEFORE): \",missing_removedData.filter(query).count())\n",
    "\n",
    "missing_removedData = missing_removedData.filter('not(' + query + ')')\n",
    "print(\"Number of exteme removed: \",beforeCount - missing_removedData.select(elementsToCheck).count())\n",
    "\n",
    "print(\"Number of instances after removal: \",missing_removedData.count())\n",
    "cleanedData = missing_removedData"
   ]
  },
  {
   "cell_type": "code",
   "execution_count": 19,
   "id": "c85c2b8a",
   "metadata": {},
   "outputs": [],
   "source": [
    "# AFTER ---- average glucose level WITHOUTLIER OUTLIER BOXPLOT\n",
    "#import pandas as pd\n",
    "#missing_removedData = missing_removedData.toPandas()\n",
    "#missing_removedData.boxplot(column=[\"avg_glucose_level\"])"
   ]
  },
  {
   "cell_type": "code",
   "execution_count": 20,
   "id": "c689381d",
   "metadata": {},
   "outputs": [
    {
     "name": "stdout",
     "output_type": "stream",
     "text": [
      "After data cleaning, there are 29399 instances.\n",
      "root\n",
      " |-- id: string (nullable = true)\n",
      " |-- gender: string (nullable = true)\n",
      " |-- age: double (nullable = true)\n",
      " |-- hypertension: string (nullable = true)\n",
      " |-- heart_disease: string (nullable = true)\n",
      " |-- ever_married: string (nullable = true)\n",
      " |-- work_type: string (nullable = true)\n",
      " |-- avg_glucose_level: double (nullable = true)\n",
      " |-- bmi: double (nullable = true)\n",
      " |-- smoking_status: string (nullable = true)\n",
      " |-- stroke: string (nullable = true)\n",
      "\n"
     ]
    },
    {
     "data": {
      "text/plain": [
       "['id',\n",
       " 'gender',\n",
       " 'age',\n",
       " 'hypertension',\n",
       " 'heart_disease',\n",
       " 'ever_married',\n",
       " 'work_type',\n",
       " 'avg_glucose_level',\n",
       " 'bmi',\n",
       " 'smoking_status',\n",
       " 'stroke']"
      ]
     },
     "execution_count": 20,
     "metadata": {},
     "output_type": "execute_result"
    }
   ],
   "source": [
    "print(\"After data cleaning, there are\", cleanedData.count(),\"instances.\")\n",
    "cleanedData.printSchema()\n",
    "cleanedData.columns"
   ]
  },
  {
   "cell_type": "markdown",
   "id": "7814737b",
   "metadata": {},
   "source": [
    "Iteration 4 / 3.3 feature creation"
   ]
  },
  {
   "cell_type": "code",
   "execution_count": 21,
   "id": "296d035f",
   "metadata": {},
   "outputs": [
    {
     "name": "stdout",
     "output_type": "stream",
     "text": [
      "root\n",
      " |-- id: string (nullable = true)\n",
      " |-- gender: string (nullable = true)\n",
      " |-- age: double (nullable = true)\n",
      " |-- hypertension: string (nullable = true)\n",
      " |-- heart_disease: string (nullable = true)\n",
      " |-- ever_married: string (nullable = true)\n",
      " |-- work_type: string (nullable = true)\n",
      " |-- avg_glucose_level: double (nullable = true)\n",
      " |-- bmi: double (nullable = true)\n",
      " |-- smoking_status: string (nullable = true)\n",
      " |-- stroke: string (nullable = true)\n",
      " |-- work_type_new: string (nullable = true)\n",
      "\n",
      "Existing work Categories: \n",
      "+-------------+\n",
      "|    work_type|\n",
      "+-------------+\n",
      "| Never_worked|\n",
      "|Self-employed|\n",
      "|      Private|\n",
      "|     children|\n",
      "|     Govt_job|\n",
      "+-------------+\n",
      "\n",
      "New work Categories: \n",
      "+-------------+\n",
      "|work_type_new|\n",
      "+-------------+\n",
      "| Never_worked|\n",
      "|      Private|\n",
      "|     Govt_job|\n",
      "+-------------+\n",
      "\n",
      "Existing bmi: \n",
      "+----+\n",
      "| bmi|\n",
      "+----+\n",
      "|26.7|\n",
      "|49.8|\n",
      "|14.9|\n",
      "|15.5|\n",
      "|47.5|\n",
      "|15.4|\n",
      "|37.1|\n",
      "|25.1|\n",
      "|15.7|\n",
      "|45.3|\n",
      "|32.3|\n",
      "|24.7|\n",
      "|18.3|\n",
      "|44.8|\n",
      "|26.4|\n",
      "|43.3|\n",
      "|17.9|\n",
      "|46.4|\n",
      "|23.8|\n",
      "|16.6|\n",
      "+----+\n",
      "only showing top 20 rows\n",
      "\n",
      "+-----------+\n",
      "|   bmi_cate|\n",
      "+-----------+\n",
      "| Overweight|\n",
      "|Underweight|\n",
      "|      Obese|\n",
      "|     Normal|\n",
      "+-----------+\n",
      "\n",
      "Existing smoking_status: \n",
      "+---------------+\n",
      "| smoking_status|\n",
      "+---------------+\n",
      "|         smokes|\n",
      "|   never smoked|\n",
      "|formerly smoked|\n",
      "+---------------+\n",
      "\n",
      "+------------------+\n",
      "|smoking_status_new|\n",
      "+------------------+\n",
      "|            smokes|\n",
      "|      never smoked|\n",
      "+------------------+\n",
      "\n"
     ]
    }
   ],
   "source": [
    "#work Categories\n",
    "cleanedData = cleanedData.withColumn(\"work_type_new\", cleanedData[\"work_type\"])\n",
    "\n",
    "#Change tyep of bmi_cate\n",
    "cleanedData = cleanedData.withColumn(\"work_type_new\",col(\"work_type_new\").cast(StringType()))\n",
    "cleanedData.printSchema()\n",
    "\n",
    "print(\"Existing work Categories: \")\n",
    "cleanedData.select(\"work_type\").distinct().show()\n",
    "\n",
    "cleanedData = cleanedData.withColumn(\"work_type_new\", when(cleanedData.work_type == \"children\", \"Never_worked\") \\\n",
    "                                       .when(cleanedData.work_type == \"Never_worked\", \"Never_worked\") \\\n",
    "                                       .when(cleanedData.work_type == \"Govt_job\", \"Govt_job\") \\\n",
    "                                       .when(cleanedData.work_type == \"Self-employed\", \"Private\") \\\n",
    "                                       .when(cleanedData.work_type == \"Private\", \"Private\"))\n",
    "\n",
    "print(\"New work Categories: \")\n",
    "cleanedData.select(\"work_type_new\").distinct().show()\n",
    "cleanedData = cleanedData.drop(\"work_type\")\n",
    "\n",
    "#BMI Categories\n",
    "print(\"Existing bmi: \")\n",
    "cleanedData.select(\"bmi\").distinct().show()\n",
    "cleanedData = cleanedData.withColumn(\"bmi_cate\", cleanedData[\"bmi\"])\n",
    "\n",
    "#Change tyep of bmi_cate\n",
    "cleanedData = cleanedData.withColumn(\"bmi_cate\",col(\"bmi_cate\").cast(StringType()))\n",
    "#cleanedData.printSchema()\n",
    "\n",
    "from pyspark.sql.functions import when\n",
    "cleanedData = cleanedData.withColumn(\"bmi_cate\", when(cleanedData.bmi < 18.5, \"Underweight\") \\\n",
    "                                       .when((cleanedData.bmi >= 18.5) & (cleanedData.bmi <= 24.9), \"Normal\") \\\n",
    "                                       .when((cleanedData.bmi >= 25.0) & (cleanedData.bmi <= 29.9), \"Overweight\") \\\n",
    "                                       .when(cleanedData.bmi >= 30, \"Obese\"))\n",
    "\n",
    "cleanedData.select(\"bmi_cate\").distinct().show()\n",
    "cleanedData = cleanedData.drop(\"bmi\")\n",
    "\n",
    "#===========================\n",
    "#smoking cate\n",
    "print(\"Existing smoking_status: \")\n",
    "cleanedData.select(\"smoking_status\").distinct().show()\n",
    "\n",
    "cleanedData = cleanedData.withColumn(\"smoking_status_new\", cleanedData[\"smoking_status\"])\n",
    "\n",
    "#Change tyep of smoking\n",
    "cleanedData = cleanedData.withColumn(\"smoking_status_new\", when(cleanedData.smoking_status == \"formerly smoked\", \"smokes\") \\\n",
    "                                       .when(cleanedData.smoking_status == \"never smoked\", \"never smoked\") \\\n",
    "                                       .when(cleanedData.smoking_status == \"smokes\", \"smokes\"))\n",
    "                 \n",
    "cleanedData.select(\"smoking_status_new\").distinct().show()\n",
    "transformedData = cleanedData.drop(\"smoking_status\")               "
   ]
  },
  {
   "cell_type": "code",
   "execution_count": 22,
   "id": "02cc4cfa",
   "metadata": {},
   "outputs": [
    {
     "name": "stdout",
     "output_type": "stream",
     "text": [
      "Number of Instances before selection:  29399\n",
      "Number of Stroke Instances before selection:  620\n",
      "Number of Non-Stroke Instances before selection:  28779\n"
     ]
    }
   ],
   "source": [
    "\n",
    "print(\"Number of Instances before selection: \",transformedData.count())\n",
    "\n",
    "strokeData = transformedData.filter(\"stroke == 1\")\n",
    "nonStrokeData = transformedData.filter(\"stroke == 0\")\n",
    "num_stroke = strokeData.count()\n",
    "num_healthy = nonStrokeData.count()\n",
    "print(\"Number of Stroke Instances before selection: \", num_stroke)\n",
    "print(\"Number of Non-Stroke Instances before selection: \", num_healthy)"
   ]
  },
  {
   "cell_type": "markdown",
   "id": "959e204c",
   "metadata": {},
   "source": [
    "Iteration 4 / 3.4 data intergration"
   ]
  },
  {
   "cell_type": "code",
   "execution_count": 23,
   "id": "88b0f121",
   "metadata": {},
   "outputs": [
    {
     "name": "stdout",
     "output_type": "stream",
     "text": [
      "There are 620 records are marked stroke.\n",
      "There are 28779 records are marked as healthy (non-stroke).\n"
     ]
    },
    {
     "data": {
      "text/plain": [
       "<AxesSubplot:>"
      ]
     },
     "execution_count": 23,
     "metadata": {},
     "output_type": "execute_result"
    },
    {
     "data": {
      "image/png": "[encoded data removed]",
      "text/plain": [
       "<Figure size 640x480 with 1 Axes>"
      ]
     },
     "metadata": {},
     "output_type": "display_data"
    }
   ],
   "source": [
    "import seaborn\n",
    "\n",
    "print(\"There are\", num_stroke, \"records are marked stroke.\")\n",
    "print(\"There are\", num_healthy, \"records are marked as healthy (non-stroke).\")\n",
    "seaborn.barplot(y=['stroke', 'healthy'], x=[num_stroke, num_healthy], orient='horizon')\n",
    "\n",
    "#Do rebalance after data formmating and PCA and train,test split"
   ]
  },
  {
   "cell_type": "code",
   "execution_count": 24,
   "id": "f2c415dd",
   "metadata": {},
   "outputs": [
    {
     "name": "stdout",
     "output_type": "stream",
     "text": [
      "+-----+------+----+------------+-------------+------------+-----------------+------+-------------+-----------+------------------+\n",
      "|   id|gender| age|hypertension|heart_disease|ever_married|avg_glucose_level|stroke|work_type_new|   bmi_cate|smoking_status_new|\n",
      "+-----+------+----+------------+-------------+------------+-----------------+------+-------------+-----------+------------------+\n",
      "|30468|  Male|58.0|           1|            0|         Yes|            87.96|     0|      Private|      Obese|      never smoked|\n",
      "|56543|Female|70.0|           0|            0|         Yes|            69.04|     0|      Private|      Obese|            smokes|\n",
      "|52800|Female|52.0|           0|            0|         Yes|            77.59|     0|      Private|Underweight|            smokes|\n",
      "|41413|Female|75.0|           0|            1|         Yes|           243.53|     0|      Private| Overweight|      never smoked|\n",
      "|15266|Female|32.0|           0|            0|         Yes|            77.67|     0|      Private|      Obese|            smokes|\n",
      "|64908|  Male|79.0|           0|            1|         Yes|            57.08|     0|      Private|     Normal|            smokes|\n",
      "|63884|Female|37.0|           0|            0|         Yes|           162.96|     0|      Private|      Obese|      never smoked|\n",
      "|37893|Female|37.0|           0|            0|         Yes|             73.5|     0|      Private| Overweight|            smokes|\n",
      "|67855|Female|40.0|           0|            0|         Yes|            95.04|     0|      Private|      Obese|      never smoked|\n",
      "|25774|  Male|35.0|           0|            0|          No|            85.37|     0|      Private|      Obese|      never smoked|\n",
      "|19584|Female|20.0|           0|            0|          No|            84.62|     0|      Private|     Normal|            smokes|\n",
      "|24447|Female|42.0|           0|            0|         Yes|            82.67|     0|      Private|     Normal|      never smoked|\n",
      "|49589|Female|44.0|           0|            0|         Yes|            57.33|     0|     Govt_job|     Normal|            smokes|\n",
      "|17986|Female|79.0|           0|            1|         Yes|            67.84|     0|      Private| Overweight|            smokes|\n",
      "|47175|Female|49.0|           0|            0|         Yes|            60.22|     0|      Private|      Obese|            smokes|\n",
      "| 4057|  Male|71.0|           0|            0|         Yes|           198.21|     0|      Private| Overweight|            smokes|\n",
      "|48588|Female|59.0|           0|            0|         Yes|           109.82|     0|      Private|     Normal|      never smoked|\n",
      "|70336|Female|25.0|           0|            0|         Yes|            60.84|     0|      Private|     Normal|      never smoked|\n",
      "|66767|Female|67.0|           0|            0|         Yes|            94.61|     0|     Govt_job| Overweight|            smokes|\n",
      "|45801|Female|38.0|           0|            0|          No|            97.49|     0|      Private| Overweight|      never smoked|\n",
      "|36275|Female|54.0|           0|            0|         Yes|           206.72|     0|      Private| Overweight|      never smoked|\n",
      "|11577|Female|70.0|           0|            0|         Yes|           214.45|     0|      Private|      Obese|      never smoked|\n",
      "|45222|  Male|58.0|           1|            0|          No|            55.78|     0|      Private| Overweight|            smokes|\n",
      "|65460|Female|32.0|           0|            0|         Yes|             62.6|     0|      Private| Overweight|            smokes|\n",
      "|36811|Female|23.0|           0|            0|          No|            94.09|     0|      Private|      Obese|      never smoked|\n",
      "|42203|  Male|59.0|           0|            0|         Yes|           117.92|     0|      Private| Overweight|            smokes|\n",
      "|20980|  Male|67.0|           0|            0|         Yes|            190.7|     0|      Private|      Obese|            smokes|\n",
      "|71379|Female|45.0|           0|            0|         Yes|           113.63|     0|     Govt_job| Overweight|            smokes|\n",
      "|58261|Female|66.0|           0|            0|         Yes|           141.24|     0|      Private| Overweight|      never smoked|\n",
      "|67318|  Male|58.0|           1|            0|         Yes|            56.96|     0|     Govt_job| Overweight|            smokes|\n",
      "|28526|  Male|69.0|           0|            0|         Yes|           203.04|     0|      Private|      Obese|      never smoked|\n",
      "|43454|Female|78.0|           0|            0|          No|           137.74|     0|      Private|      Obese|            smokes|\n",
      "| 7282|  Male|44.0|           0|            0|         Yes|            81.84|     0|      Private| Overweight|      never smoked|\n",
      "|18518|  Male|66.0|           0|            0|         Yes|            242.3|     0|      Private|      Obese|            smokes|\n",
      "|41648|  Male|27.0|           0|            0|         Yes|           102.64|     0|      Private| Overweight|            smokes|\n",
      "|49003|  Male|43.0|           0|            0|         Yes|           146.01|     0|      Private|      Obese|            smokes|\n",
      "|40181|Female|30.0|           0|            0|         Yes|            61.45|     0|      Private|      Obese|            smokes|\n",
      "|66174|  Male|46.0|           0|            0|         Yes|            88.19|     0|      Private| Overweight|            smokes|\n",
      "| 9046|  Male|67.0|           0|            1|         Yes|           228.69|     1|      Private|      Obese|            smokes|\n",
      "|55232|Female|38.0|           0|            0|         Yes|            79.83|     0|      Private| Overweight|            smokes|\n",
      "|11120|Female|78.0|           1|            0|         Yes|           218.46|     0|      Private|      Obese|      never smoked|\n",
      "|41940|  Male|57.0|           0|            1|         Yes|             62.2|     0|      Private|      Obese|            smokes|\n",
      "|72214|  Male|61.0|           0|            0|         Yes|            69.15|     0|      Private| Overweight|            smokes|\n",
      "|37089|Female|37.0|           1|            0|         Yes|           127.71|     0|      Private|      Obese|      never smoked|\n",
      "|68614|Female|48.0|           0|            0|         Yes|            216.7|     0|      Private|      Obese|            smokes|\n",
      "| 1686|Female|29.0|           0|            0|          No|            71.89|     0|      Private| Overweight|      never smoked|\n",
      "|30171|  Male|27.0|           0|            0|          No|             95.1|     0|     Govt_job|     Normal|            smokes|\n",
      "| 4480|  Male|76.0|           0|            0|         Yes|           234.58|     0|      Private|      Obese|            smokes|\n",
      "| 2982|Female|57.0|           1|            0|         Yes|           235.85|     0|      Private|      Obese|      never smoked|\n",
      "|29865|Female|21.0|           0|            0|          No|            89.44|     0|      Private|     Normal|            smokes|\n",
      "|51676|Female|61.0|           0|            0|         Yes|           202.21|     1|      Private| Overweight|      never smoked|\n",
      "|54918|Female|18.0|           0|            0|          No|           111.38|     0|      Private|      Obese|            smokes|\n",
      "|59368|Female|78.0|           0|            0|         Yes|            243.5|     0|      Private| Overweight|      never smoked|\n",
      "|65836|Female|78.0|           1|            0|         Yes|            182.2|     0|      Private|      Obese|            smokes|\n",
      "|21130|  Male|33.0|           0|            0|         Yes|           229.92|     0|      Private| Overweight|            smokes|\n",
      "|56357|Female|82.0|           0|            1|          No|            215.6|     0|      Private|     Normal|      never smoked|\n",
      "|18051|Female|54.0|           0|            0|         Yes|            91.61|     0|     Govt_job| Overweight|      never smoked|\n",
      "|40840|Female|49.0|           0|            0|         Yes|           138.16|     0|      Private|     Normal|      never smoked|\n",
      "|10449|Female|24.0|           0|            0|         Yes|            75.23|     0|      Private| Overweight|      never smoked|\n",
      "|38805|Female|37.0|           0|            0|         Yes|            75.18|     0|      Private|      Obese|            smokes|\n",
      "|31091|  Male|34.0|           0|            1|         Yes|           106.23|     0|      Private| Overweight|            smokes|\n",
      "|45053|  Male|64.0|           0|            0|         Yes|           239.64|     0|     Govt_job|      Obese|            smokes|\n",
      "|61837|Female|66.0|           0|            0|         Yes|            58.95|     0|      Private|     Normal|      never smoked|\n",
      "| 9487|Female|23.0|           0|            0|          No|            99.92|     0|      Private| Overweight|      never smoked|\n",
      "|49713|  Male|68.0|           0|            0|         Yes|           116.23|     0|      Private| Overweight|      never smoked|\n",
      "|17608|Female|55.0|           0|            0|         Yes|           118.82|     0|     Govt_job| Overweight|            smokes|\n",
      "|28102|Female|25.0|           0|            0|          No|             66.3|     0|      Private| Overweight|      never smoked|\n",
      "| 1506|Female|48.0|           0|            0|          No|           101.41|     0|     Govt_job|     Normal|            smokes|\n",
      "|28333|Female|79.0|           1|            1|         Yes|           200.28|     0|      Private|      Obese|            smokes|\n",
      "|62608|Female|47.0|           0|            0|         Yes|            136.8|     0|      Private|      Obese|      never smoked|\n",
      "|40670|Female|20.0|           0|            0|          No|            96.57|     0|      Private|      Obese|      never smoked|\n",
      "| 4630|Female|60.0|           0|            0|         Yes|            66.42|     0|      Private|     Normal|      never smoked|\n",
      "|21284|Female|32.0|           0|            0|         Yes|            98.09|     0|      Private| Overweight|            smokes|\n",
      "|49421|Female|66.0|           1|            0|         Yes|           205.23|     0|      Private|      Obese|      never smoked|\n",
      "| 5973|  Male|43.0|           0|            0|         Yes|            86.78|     0|      Private|     Normal|            smokes|\n",
      "|42996|Female|36.0|           0|            0|          No|           126.82|     0|     Govt_job|     Normal|      never smoked|\n",
      "|46785|Female|29.0|           0|            0|         Yes|            63.69|     0|      Private| Overweight|            smokes|\n",
      "|54312|Female|76.0|           1|            0|         Yes|           209.58|     0|      Private| Overweight|      never smoked|\n",
      "|21408|Female|39.0|           0|            0|         Yes|            89.86|     0|      Private|     Normal|      never smoked|\n",
      "|49916|  Male|76.0|           0|            0|         Yes|           110.99|     0|      Private| Overweight|            smokes|\n",
      "|69037|Female|72.0|           0|            0|         Yes|           210.78|     0|      Private|      Obese|            smokes|\n",
      "|58617|Female|43.0|           0|            0|         Yes|           118.89|     0|      Private|      Obese|      never smoked|\n",
      "|69064|Female|57.0|           0|            0|          No|            72.55|     0|      Private|     Normal|      never smoked|\n",
      "| 9404|Female|44.0|           0|            0|         Yes|           107.41|     0|      Private|      Obese|      never smoked|\n",
      "|28286|  Male|44.0|           0|            0|         Yes|            74.91|     0|      Private|      Obese|      never smoked|\n",
      "|43232|Female|18.0|           0|            0|          No|            80.05|     0|      Private|     Normal|      never smoked|\n",
      "|10159|  Male|41.0|           0|            0|         Yes|             99.8|     0|      Private|      Obese|      never smoked|\n",
      "|34402|Female|23.0|           0|            0|         Yes|            91.97|     0|      Private|     Normal|            smokes|\n",
      "|58282|Female|53.0|           0|            0|         Yes|             64.4|     0|     Govt_job|      Obese|            smokes|\n",
      "|64489|  Male|56.0|           0|            0|         Yes|            73.02|     0|     Govt_job|      Obese|      never smoked|\n",
      "|64553|Female|53.0|           0|            0|         Yes|            68.76|     0|      Private|      Obese|            smokes|\n",
      "|69936|Female|39.0|           0|            0|         Yes|           101.52|     0|      Private|      Obese|      never smoked|\n",
      "|46527|  Male|53.0|           1|            1|         Yes|           109.51|     0|     Govt_job|      Obese|      never smoked|\n",
      "|13547|Female|37.0|           0|            0|         Yes|            91.72|     0|      Private| Overweight|      never smoked|\n",
      "| 9608|  Male|24.0|           0|            0|          No|            123.1|     0|      Private|      Obese|      never smoked|\n",
      "|31112|  Male|80.0|           0|            1|         Yes|           105.92|     1|      Private|      Obese|      never smoked|\n",
      "|10504|  Male|55.0|           0|            0|         Yes|             97.4|     0|     Govt_job|      Obese|            smokes|\n",
      "|37090|Female|70.0|           0|            0|         Yes|            68.34|     0|      Private|     Normal|            smokes|\n",
      "|60148|  Male|34.0|           0|            0|         Yes|            80.81|     0|      Private|      Obese|      never smoked|\n",
      "| 9637|  Male|26.0|           0|            0|         Yes|           120.31|     0|      Private|     Normal|            smokes|\n",
      "+-----+------+----+------------+-------------+------------+-----------------+------+-------------+-----------+------------------+\n",
      "only showing top 100 rows\n",
      "\n"
     ]
    }
   ],
   "source": [
    "transformedData.show(n=100)"
   ]
  },
  {
   "cell_type": "markdown",
   "id": "5542fbb5",
   "metadata": {},
   "source": [
    "Iteration 4 / 3.5 formatting data"
   ]
  },
  {
   "cell_type": "code",
   "execution_count": 25,
   "id": "f21f4da7",
   "metadata": {},
   "outputs": [],
   "source": [
    "#Gender Categories\n",
    "formattedData = transformedData\n",
    "formattedData = formattedData.withColumn(\"gender_num\", formattedData[\"gender\"])\n",
    "formattedData = formattedData.withColumn(\"gender_num\", when(formattedData.gender == \"Male\", \"1\") \\\n",
    "                                       .when(formattedData.gender == \"Female\", \"3\") \\\n",
    "                                       .when(formattedData.gender == \"Other\", \"2\"))\n",
    "formattedData = formattedData.drop('gender')\n",
    "\n",
    "#Marry Categories\n",
    "formattedData = formattedData.withColumn(\"ever_married_num\", formattedData[\"ever_married\"])\n",
    "formattedData = formattedData.withColumn(\"ever_married_num\", when(formattedData.ever_married == \"Yes\", \"0\") \\\n",
    "                                       .when(formattedData.ever_married == \"No\", \"1\"))\n",
    "formattedData = formattedData.drop('ever_married')\n",
    "\n",
    "#work Categories\n",
    "formattedData = formattedData.withColumn(\"work_type_num\", formattedData[\"work_type_new\"])\n",
    "formattedData = formattedData.withColumn(\"work_type_num\", when(formattedData.work_type_new == \"Private\", \"2\") \\\n",
    "                                       .when(formattedData.work_type_new == \"Govt_job\", \"1\") \\\n",
    "                                       .when(formattedData.work_type_new == \"Never_worked\", \"0\"))\n",
    "formattedData = formattedData.drop('work_type_new')\n",
    "\n",
    "#bmi Categories\n",
    "formattedData = formattedData.withColumn(\"bmi_num\", formattedData[\"bmi_cate\"])\n",
    "formattedData = formattedData.withColumn(\"bmi_num\", when(formattedData.bmi_cate == \"Underweight\", \"0\") \\\n",
    "                                       .when(formattedData.bmi_cate == \"Normal\", \"1\") \\\n",
    "                                       .when(formattedData.bmi_cate == \"Overweight\", \"2\") \\\n",
    "                                       .when(formattedData.bmi_cate == \"Obese\", \"3\"))\n",
    "formattedData = formattedData.drop('bmi_cate')\n",
    "\n",
    "#smoking Categories\n",
    "formattedData = formattedData.withColumn(\"smoking_status_num\", formattedData[\"smoking_status_new\"])\n",
    "formattedData = formattedData.withColumn(\"smoking_status_num\", when(formattedData.smoking_status_new == \"smokes\", \"1\") \\\n",
    "                                       .when(formattedData.smoking_status_new == \"never smoked\", \"0\"))\n",
    "formattedData = formattedData.drop('smoking_status_new')\n",
    "formattedData = formattedData.drop('id')"
   ]
  },
  {
   "cell_type": "code",
   "execution_count": 26,
   "id": "62005c96",
   "metadata": {},
   "outputs": [
    {
     "name": "stdout",
     "output_type": "stream",
     "text": [
      "root\n",
      " |-- age: double (nullable = true)\n",
      " |-- hypertension: double (nullable = true)\n",
      " |-- heart_disease: double (nullable = true)\n",
      " |-- avg_glucose_level: double (nullable = true)\n",
      " |-- stroke: double (nullable = true)\n",
      " |-- gender_num: double (nullable = true)\n",
      " |-- ever_married_num: double (nullable = true)\n",
      " |-- work_type_num: double (nullable = true)\n",
      " |-- bmi_num: double (nullable = true)\n",
      " |-- smoking_status_num: double (nullable = true)\n",
      "\n"
     ]
    }
   ],
   "source": [
    "for c in formattedData.columns:\n",
    "    formattedData = formattedData.withColumn(c,col(c).cast(DoubleType()))\n",
    "formattedData.printSchema()"
   ]
  },
  {
   "cell_type": "markdown",
   "id": "9c97c8f9",
   "metadata": {},
   "source": [
    "1. PCA\n",
    "2. re-balance\n",
    "3. train test split\n",
    "4. model train, eval, selection"
   ]
  },
  {
   "cell_type": "markdown",
   "id": "345c3b3d",
   "metadata": {},
   "source": [
    "Iteration 4 / 4.1 data reduction"
   ]
  },
  {
   "cell_type": "code",
   "execution_count": 27,
   "id": "3fe29b39",
   "metadata": {},
   "outputs": [],
   "source": [
    "# train,test = formattedData.randomSplit([0.7,0.3])\n",
    "# train_x = train.drop('stroke')\n",
    "# train_y = train.select('stroke')\n",
    "# test_x = test.drop('stroke')\n",
    "# test_y = test.select('stroke')"
   ]
  },
  {
   "cell_type": "code",
   "execution_count": 28,
   "id": "6850fa93",
   "metadata": {},
   "outputs": [],
   "source": [
    "from pyspark.ml.feature import PCA\n",
    "from pyspark.ml.classification import LogisticRegression\n",
    "from pyspark.ml.feature import VectorAssembler"
   ]
  },
  {
   "cell_type": "code",
   "execution_count": 29,
   "id": "8c97cf73",
   "metadata": {},
   "outputs": [
    {
     "name": "stdout",
     "output_type": "stream",
     "text": [
      "There are  29399 instances in the dataset.\n"
     ]
    }
   ],
   "source": [
    "assembler = VectorAssembler(inputCols=['age',\n",
    "                             'hypertension',\n",
    "                             'heart_disease',\n",
    "                             'avg_glucose_level',\n",
    "                             'bmi_num',\n",
    "                             'gender_num',\n",
    "                             'work_type_num',\n",
    "                             'ever_married_num',\n",
    "                             'smoking_status_num'],\n",
    "                              outputCol=\"features\")\n",
    "\n",
    "finalData = assembler.transform(formattedData)\n",
    "print(\"There are \", finalData.count(),\"instances in the dataset.\")"
   ]
  },
  {
   "cell_type": "code",
   "execution_count": 82,
   "id": "474c203c",
   "metadata": {},
   "outputs": [
    {
     "name": "stderr",
     "output_type": "stream",
     "text": [
      "                                                                                \r"
     ]
    }
   ],
   "source": [
    "train, test = finalData.randomSplit([0.8,0.2])\n",
    "# training PCA model\n",
    "pca = PCA(k=3, inputCol=\"features\")\n",
    "pca.setOutputCol(\"pca_features\")\n",
    "model = pca.fit(train)"
   ]
  },
  {
   "cell_type": "code",
   "execution_count": 83,
   "id": "8aeb9abf",
   "metadata": {},
   "outputs": [
    {
     "data": {
      "text/plain": [
       "DenseVector([0.8524, 0.1466, 0.0004])"
      ]
     },
     "execution_count": 83,
     "metadata": {},
     "output_type": "execute_result"
    }
   ],
   "source": [
    "model.explainedVariance"
   ]
  },
  {
   "cell_type": "code",
   "execution_count": 84,
   "id": "bfd10a8a",
   "metadata": {},
   "outputs": [
    {
     "name": "stderr",
     "output_type": "stream",
     "text": [
      "                                                                                \r"
     ]
    },
    {
     "name": "stdout",
     "output_type": "stream",
     "text": [
      "There are 496 marked as stroke.\n",
      "There are 23015 marked as non-stroke.\n",
      "After rebalance, there are 46030 instances in training dataset\n"
     ]
    },
    {
     "name": "stderr",
     "output_type": "stream",
     "text": [
      "                                                                                \r"
     ]
    },
    {
     "name": "stdout",
     "output_type": "stream",
     "text": [
      "After rebalance, there are 23015 marked as stroke.\n"
     ]
    },
    {
     "name": "stderr",
     "output_type": "stream",
     "text": [
      "[Stage 1675:>                                                       (0 + 1) / 1]\r"
     ]
    },
    {
     "name": "stdout",
     "output_type": "stream",
     "text": [
      "After rebalance, there are 23015 marked as non-stroke.\n"
     ]
    },
    {
     "name": "stderr",
     "output_type": "stream",
     "text": [
      "                                                                                \r"
     ]
    }
   ],
   "source": [
    "train_stroke = train.filter('stroke==1.0')\n",
    "train_health = train.filter('stroke==0.0')\n",
    "print(\"There are\", train_stroke.count(), \"marked as stroke.\")\n",
    "print(\"There are\", train_health.count(), \"marked as non-stroke.\")\n",
    "train_stroke_resample = train_stroke.sample(True, 50.0).limit(train_health.count())\n",
    "\n",
    "oversampled = train_health.union(train_stroke_resample)\n",
    "print(\"After rebalance, there are\", oversampled.count(), \"instances in training dataset\")\n",
    "print(\"After rebalance, there are\", oversampled.filter('stroke==1.0').count(), \"marked as stroke.\")\n",
    "print(\"After rebalance, there are\",oversampled.filter('stroke==0.0').count(), \"marked as non-stroke.\")"
   ]
  },
  {
   "cell_type": "code",
   "execution_count": 85,
   "id": "6c102c8d",
   "metadata": {},
   "outputs": [
    {
     "name": "stderr",
     "output_type": "stream",
     "text": [
      "[Stage 1687:>                                                       (0 + 1) / 1]\r"
     ]
    },
    {
     "name": "stdout",
     "output_type": "stream",
     "text": [
      "There are 23015 records are marked stroke.\n",
      "There are 23015 records are marked as healthy (non-stroke).\n"
     ]
    },
    {
     "name": "stderr",
     "output_type": "stream",
     "text": [
      "                                                                                \r"
     ]
    },
    {
     "data": {
      "text/plain": [
       "<AxesSubplot:>"
      ]
     },
     "execution_count": 85,
     "metadata": {},
     "output_type": "execute_result"
    },
    {
     "data": {
      "image/png": "[encoded data removed]",
      "text/plain": [
       "<Figure size 640x480 with 1 Axes>"
      ]
     },
     "metadata": {},
     "output_type": "display_data"
    }
   ],
   "source": [
    "import seaborn\n",
    "strokeData = oversampled.filter('stroke==1.0')\n",
    "nonStrokeData = oversampled.filter('stroke==0')\n",
    "num_stroke = strokeData.count()\n",
    "num_healthy = nonStrokeData.count()\n",
    "print(\"There are\", num_stroke, \"records are marked stroke.\")\n",
    "print(\"There are\", num_healthy, \"records are marked as healthy (non-stroke).\")\n",
    "seaborn.barplot(y=['stroke', 'healthy'], x=[num_stroke, num_healthy], orient='horizon')"
   ]
  },
  {
   "cell_type": "code",
   "execution_count": 86,
   "id": "2e2b1b6c",
   "metadata": {},
   "outputs": [
    {
     "name": "stdout",
     "output_type": "stream",
     "text": [
      "There are 124 records are marked stroke.\n",
      "There are 5764 records are marked as healthy (non-stroke).\n"
     ]
    },
    {
     "name": "stderr",
     "output_type": "stream",
     "text": [
      "                                                                                \r"
     ]
    },
    {
     "data": {
      "text/plain": [
       "<AxesSubplot:>"
      ]
     },
     "execution_count": 86,
     "metadata": {},
     "output_type": "execute_result"
    },
    {
     "data": {
      "image/png": "[encoded data removed]",
      "text/plain": [
       "<Figure size 640x480 with 1 Axes>"
      ]
     },
     "metadata": {},
     "output_type": "display_data"
    }
   ],
   "source": [
    "import seaborn\n",
    "strokeData = test.filter('stroke==1.0')\n",
    "nonStrokeData = test.filter('stroke==0')\n",
    "num_stroke = strokeData.count()\n",
    "num_healthy = nonStrokeData.count()\n",
    "print(\"There are\", num_stroke, \"records are marked stroke.\")\n",
    "print(\"There are\", num_healthy, \"records are marked as healthy (non-stroke).\")\n",
    "seaborn.barplot(y=['stroke', 'healthy'], x=[num_stroke, num_healthy], orient='horizon')"
   ]
  },
  {
   "cell_type": "code",
   "execution_count": null,
   "id": "776fdcbb",
   "metadata": {},
   "outputs": [],
   "source": []
  },
  {
   "cell_type": "markdown",
   "id": "234b6748",
   "metadata": {},
   "source": [
    "Iteration 4 / 4.2 Data Projection"
   ]
  },
  {
   "cell_type": "code",
   "execution_count": 87,
   "id": "6753536d",
   "metadata": {},
   "outputs": [],
   "source": [
    "train_oversample_pca = model.transform(oversampled)\n",
    "test_pca = model.transform(test)"
   ]
  },
  {
   "cell_type": "code",
   "execution_count": 88,
   "id": "4acdae72",
   "metadata": {},
   "outputs": [],
   "source": [
    "train_oversample_pca = train_oversample_pca.select(['pca_features','stroke'])\n",
    "test_pca = test_pca.select(['pca_features','stroke'])"
   ]
  },
  {
   "cell_type": "code",
   "execution_count": 89,
   "id": "41a513c3",
   "metadata": {},
   "outputs": [
    {
     "name": "stdout",
     "output_type": "stream",
     "text": [
      "+--------------------+------+\n",
      "|        pca_features|stroke|\n",
      "+--------------------+------+\n",
      "|[-65.611384295286...|   0.0|\n",
      "|[-72.875260562016...|   0.0|\n",
      "|[-73.344545333055...|   0.0|\n",
      "|[-85.446695821566...|   0.0|\n",
      "|[-88.086238535219...|   0.0|\n",
      "|[-89.089766841092...|   0.0|\n",
      "|[-89.169236885308...|   0.0|\n",
      "|[-95.427283869719...|   0.0|\n",
      "|[-97.195711351176...|   0.0|\n",
      "|[-101.62616631624...|   0.0|\n",
      "|[-107.23120269477...|   0.0|\n",
      "|[-123.02899436036...|   0.0|\n",
      "|[-56.957038711078...|   0.0|\n",
      "|[-65.492751967733...|   0.0|\n",
      "|[-69.297380334598...|   0.0|\n",
      "|[-69.674863044627...|   0.0|\n",
      "|[-70.911664250157...|   0.0|\n",
      "|[-72.347043281407...|   0.0|\n",
      "|[-73.449690144911...|   0.0|\n",
      "|[-73.646064279006...|   0.0|\n",
      "+--------------------+------+\n",
      "only showing top 20 rows\n",
      "\n"
     ]
    }
   ],
   "source": [
    "test_pca.show()"
   ]
  },
  {
   "cell_type": "code",
   "execution_count": 90,
   "id": "5dbdbd5f",
   "metadata": {},
   "outputs": [],
   "source": [
    "train_pca = model.transform(train).select(['pca_features','stroke'])\n",
    "\n",
    "train_pca_health = train_pca.filter('stroke == 0.0')\n",
    "train_pca_stroke = train_pca.filter('stroke == 1.0')\n",
    "\n",
    "x_health = []\n",
    "y_health = []\n",
    "z_health = []\n",
    "\n",
    "x_stroke = []\n",
    "y_stroke = []\n",
    "z_stroke = []\n",
    "\n",
    "train_pca_health_pandas = train_pca_health.toPandas()\n",
    "train_pca_stroke_pandas = train_pca_stroke.toPandas()\n",
    "\n",
    "for row in train_pca_health_pandas.pca_features:\n",
    "    x_health.append(row[0])\n",
    "    y_health.append(row[1])\n",
    "    z_health.append(row[2])\n",
    "    \n",
    "for row in train_pca_stroke_pandas.pca_features:\n",
    "    x_stroke.append(row[0])\n",
    "    y_stroke.append(row[1])\n",
    "    z_stroke.append(row[2])\n",
    "\n",
    "x_health = x_health[:500]\n",
    "y_health = y_health[:500]\n",
    "z_health = z_health[:500]\n",
    "\n",
    "x_stroke = x_stroke[:100]\n",
    "y_stroke = y_stroke[:100]\n",
    "z_stroke = z_stroke[:100]"
   ]
  },
  {
   "cell_type": "markdown",
   "id": "173a62a6",
   "metadata": {},
   "source": [
    "4.3 data visualization"
   ]
  },
  {
   "cell_type": "code",
   "execution_count": 91,
   "id": "dd07e8de",
   "metadata": {},
   "outputs": [
    {
     "name": "stderr",
     "output_type": "stream",
     "text": [
      "/tmp/ipykernel_1328/1033223198.py:5: MatplotlibDeprecationWarning: Axes3D(fig) adding itself to the figure is deprecated since 3.4. Pass the keyword argument auto_add_to_figure=False and use fig.add_axes(ax) to suppress this warning. The default value of auto_add_to_figure will change to False in mpl3.5 and True values will no longer work in 3.6.  This is consistent with other Axes classes.\n",
      "  ax = Axes3D(fig)\n"
     ]
    },
    {
     "data": {
      "image/png": "[encoded data removed]",
      "text/plain": [
       "<Figure size 640x480 with 1 Axes>"
      ]
     },
     "metadata": {},
     "output_type": "display_data"
    }
   ],
   "source": [
    "import matplotlib.pyplot as plt\n",
    "from mpl_toolkits.mplot3d import Axes3D # 空间三维画图\n",
    "\n",
    "fig = plt.figure()\n",
    "ax = Axes3D(fig)\n",
    "ax.scatter(x_health, y_health, z_health, c='g', alpha=0.5, s=5)\n",
    "ax.scatter(x_stroke, y_stroke, z_stroke, c='r', alpha=0.5, s=5)\n",
    "# 添加坐标轴\n",
    "# ax.set_xlabel('sepal length (cm)', fontdict={'size': 10, 'color': 'black'})\n",
    "# ax.set_ylabel('sepal width (cm)', fontdict={'size': 10, 'color': 'black'})\n",
    "# ax.set_zlabel('petal length (cm)', fontdict={'size': 10, 'color': 'black'})\n",
    "plt.show()"
   ]
  },
  {
   "cell_type": "code",
   "execution_count": 92,
   "id": "7f8f5552",
   "metadata": {},
   "outputs": [
    {
     "data": {
      "image/png": "[encoded data removed]",
      "text/plain": [
       "<Figure size 640x480 with 1 Axes>"
      ]
     },
     "metadata": {},
     "output_type": "display_data"
    }
   ],
   "source": [
    "plt.scatter(x_health, y_health, c='g', alpha=0.5, s=5)\n",
    "plt.scatter(x_stroke, y_stroke, c='r', alpha=0.5, s=5)\n",
    "plt.show()"
   ]
  },
  {
   "cell_type": "code",
   "execution_count": 93,
   "id": "2e86a371",
   "metadata": {},
   "outputs": [
    {
     "name": "stdout",
     "output_type": "stream",
     "text": [
      "46030\n",
      "5888\n"
     ]
    }
   ],
   "source": [
    "# final data is\n",
    "print(train_oversample_pca.count())\n",
    "print(test_pca.count())"
   ]
  },
  {
   "cell_type": "markdown",
   "id": "374f2c20",
   "metadata": {},
   "source": [
    "Iteration 4 6.2 Model training"
   ]
  },
  {
   "cell_type": "code",
   "execution_count": 94,
   "id": "98e4adb9",
   "metadata": {},
   "outputs": [
    {
     "name": "stdout",
     "output_type": "stream",
     "text": [
      "Decision Tree\n"
     ]
    },
    {
     "name": "stderr",
     "output_type": "stream",
     "text": [
      "                                                                                \r"
     ]
    },
    {
     "name": "stdout",
     "output_type": "stream",
     "text": [
      "Time Elapsed:  6.470633506774902\n",
      "Accuracy:  0.7897622338877571\n",
      "Confusion Matrix\n",
      "[112  2104\n",
      " 12  3660]\n",
      "\n",
      "Precision:  0.05054151624548736\n",
      "Recall:  0.9032258064516129\n",
      "F1 : 0.09572649572649573\n"
     ]
    }
   ],
   "source": [
    "import time\n",
    "from pyspark.ml.classification import DecisionTreeClassifier\n",
    "from pyspark.ml.evaluation import BinaryClassificationEvaluator\n",
    "\n",
    "print(\"Decision Tree\")\n",
    "start = time.time()\n",
    "dtc = DecisionTreeClassifier(labelCol=\"stroke\", featuresCol = \"pca_features\")\n",
    "dtc_model = dtc.fit(train_oversample_pca)\n",
    "dtc_predictions = dtc_model.transform(test_pca)\n",
    "end = time.time()\n",
    "print(\"Time Elapsed: \", end - start)\n",
    "\n",
    "binary_eval = BinaryClassificationEvaluator(labelCol = 'stroke')\n",
    "print(\"Accuracy: \",binary_eval.evaluate(dtc_predictions))\n",
    "\n",
    "tp = dtc_predictions[(dtc_predictions.prediction == 1) & (dtc_predictions.stroke == 1)].count()\n",
    "tn = dtc_predictions[(dtc_predictions.prediction == 0) & (dtc_predictions.stroke == 0)].count()\n",
    "fn = dtc_predictions[(dtc_predictions.prediction == 0) & (dtc_predictions.stroke == 1)].count()\n",
    "fp = dtc_predictions[(dtc_predictions.prediction == 1) & (dtc_predictions.stroke == 0)].count()\n",
    "    \n",
    "print(\"Confusion Matrix\")\n",
    "print(\"[\" + str(tp) + \"  \" + str(fp))\n",
    "print(\" \" + str(fn) + \"  \" + str(tn) + \"]\" + \"\\n\")\n",
    "\n",
    "precision = float((tp)/(tp + fp))\n",
    "recall = float((tp)/(tp + fn))\n",
    "\n",
    "print(\"Precision: \",precision)\n",
    "print(\"Recall: \",recall)\n",
    "print(\"F1 :\",float(2 * precision * recall / (precision + recall)))"
   ]
  },
  {
   "cell_type": "code",
   "execution_count": 95,
   "id": "42f520eb",
   "metadata": {},
   "outputs": [
    {
     "name": "stdout",
     "output_type": "stream",
     "text": [
      "Random Forest\n"
     ]
    },
    {
     "name": "stderr",
     "output_type": "stream",
     "text": [
      "                                                                                \r"
     ]
    },
    {
     "name": "stdout",
     "output_type": "stream",
     "text": [
      "Time Elapsed:  8.359005451202393\n"
     ]
    },
    {
     "name": "stderr",
     "output_type": "stream",
     "text": [
      "                                                                                \r"
     ]
    },
    {
     "name": "stdout",
     "output_type": "stream",
     "text": [
      "Accuracy:  0.8364689899487375\n",
      "Confusion Matrix\n",
      "[107  1893\n",
      " 17  3871]\n",
      "\n",
      "Precision:  0.0535\n",
      "Recall:  0.8629032258064516\n",
      "F1 : 0.1007532956685499\n"
     ]
    }
   ],
   "source": [
    "from pyspark.ml.classification import RandomForestClassifier\n",
    "print(\"Random Forest\")\n",
    "start = time.time()\n",
    "rfc = RandomForestClassifier(labelCol=\"stroke\", featuresCol = \"pca_features\")\n",
    "rfc_model = rfc.fit(train_oversample_pca)\n",
    "rfc_predictions = rfc_model.transform(test_pca)\n",
    "end = time.time()\n",
    "print(\"Time Elapsed: \", end - start)\n",
    "\n",
    "binary_eval = BinaryClassificationEvaluator(labelCol = 'stroke')\n",
    "print(\"Accuracy: \",binary_eval.evaluate(rfc_predictions))\n",
    "\n",
    "tp = rfc_predictions[(rfc_predictions.prediction == 1) & (rfc_predictions.stroke == 1)].count()\n",
    "tn = rfc_predictions[(rfc_predictions.prediction == 0) & (rfc_predictions.stroke == 0)].count()\n",
    "fn = rfc_predictions[(rfc_predictions.prediction == 0) & (rfc_predictions.stroke == 1)].count()\n",
    "fp = rfc_predictions[(rfc_predictions.prediction == 1) & (rfc_predictions.stroke == 0)].count()\n",
    "    \n",
    "print(\"Confusion Matrix\")\n",
    "print(\"[\" + str(tp) + \"  \" + str(fp))\n",
    "print(\" \" + str(fn) + \"  \" + str(tn) + \"]\" + \"\\n\")\n",
    "\n",
    "precision = float((tp)/(tp + fp))\n",
    "recall = float((tp)/(tp + fn))\n",
    "\n",
    "print(\"Precision: \",precision)\n",
    "print(\"Recall: \",recall)\n",
    "print(\"F1 :\",float(2 * precision * recall / (precision + recall)))"
   ]
  },
  {
   "cell_type": "code",
   "execution_count": 96,
   "id": "9c4ff4c0",
   "metadata": {},
   "outputs": [
    {
     "name": "stdout",
     "output_type": "stream",
     "text": [
      "Logistic Regression ---\n"
     ]
    },
    {
     "name": "stderr",
     "output_type": "stream",
     "text": [
      "[Stage 1836:>                                                       (0 + 1) / 1]\r"
     ]
    },
    {
     "name": "stdout",
     "output_type": "stream",
     "text": [
      "Time Elapsed:  5.032065391540527\n"
     ]
    },
    {
     "name": "stderr",
     "output_type": "stream",
     "text": [
      "                                                                                \r"
     ]
    },
    {
     "name": "stdout",
     "output_type": "stream",
     "text": [
      "Accuracy:  0.8416114481430937\n",
      "Confusion Matrix\n",
      "[105  1763\n",
      " 19  4001]\n",
      "\n",
      "Precision:  0.05620985010706638\n",
      "Recall:  0.8467741935483871\n",
      "F1 : 0.10542168674698796\n"
     ]
    }
   ],
   "source": [
    "from pyspark.ml.classification import LogisticRegression\n",
    "\n",
    "print(\"Logistic Regression ---\")\n",
    "start = time.time()\n",
    "lr = LogisticRegression(labelCol=\"stroke\", featuresCol = \"pca_features\")\n",
    "lr_model = lr.fit(train_oversample_pca)\n",
    "lr_predictions = lr_model.transform(test_pca)\n",
    "end = time.time()\n",
    "print(\"Time Elapsed: \", end - start)\n",
    "\n",
    "binary_eval = BinaryClassificationEvaluator(labelCol = 'stroke')\n",
    "print(\"Accuracy: \",binary_eval.evaluate(lr_predictions))\n",
    "\n",
    "tp = lr_predictions[(lr_predictions.prediction == 1) & (lr_predictions.stroke == 1)].count()\n",
    "tn = lr_predictions[(lr_predictions.prediction == 0) & (lr_predictions.stroke == 0)].count()\n",
    "fn = lr_predictions[(lr_predictions.prediction == 0) & (lr_predictions.stroke == 1)].count()\n",
    "fp = lr_predictions[(lr_predictions.prediction == 1) & (lr_predictions.stroke == 0)].count()\n",
    "    \n",
    "print(\"Confusion Matrix\")\n",
    "print(\"[\" + str(tp) + \"  \" + str(fp))\n",
    "print(\" \" + str(fn) + \"  \" + str(tn) + \"]\" + \"\\n\")\n",
    "\n",
    "precision = float((tp)/(tp + fp))\n",
    "recall = float((tp)/(tp + fn))\n",
    "\n",
    "print(\"Precision: \",precision)\n",
    "print(\"Recall: \",recall)\n",
    "print(\"F1 :\",float(2 * precision * recall / (precision + recall)))"
   ]
  },
  {
   "cell_type": "code",
   "execution_count": 97,
   "id": "924d5cd4",
   "metadata": {},
   "outputs": [
    {
     "name": "stdout",
     "output_type": "stream",
     "text": [
      "Linear SVM ---\n"
     ]
    },
    {
     "name": "stderr",
     "output_type": "stream",
     "text": [
      "22/10/16 01:55:21 ERROR OWLQN: Failure! Resetting history: breeze.optimize.NaNHistory: \n"
     ]
    },
    {
     "name": "stdout",
     "output_type": "stream",
     "text": [
      "Time Elapsed:  11.38164496421814\n",
      "Accuracy:  0.841836706140452\n",
      "Confusion Matrix\n",
      "[108  1835\n",
      " 16  3929]\n",
      "\n",
      "Precision:  0.055584148224395266\n",
      "Recall:  0.8709677419354839\n",
      "F1 : 0.10449927431059507\n"
     ]
    }
   ],
   "source": [
    "from pyspark.ml.classification import LinearSVC\n",
    "\n",
    "print(\"Linear SVM ---\")\n",
    "start = time.time()\n",
    "svm = LinearSVC(labelCol=\"stroke\", featuresCol = \"pca_features\")\n",
    "svm_model = svm.fit(train_oversample_pca)\n",
    "svm_predictions = svm_model.transform(test_pca)\n",
    "end = time.time()\n",
    "print(\"Time Elapsed: \", end - start)\n",
    "\n",
    "binary_eval = BinaryClassificationEvaluator(labelCol = 'stroke')\n",
    "print(\"Accuracy: \",binary_eval.evaluate(svm_predictions))\n",
    "\n",
    "tp = svm_predictions[(svm_predictions.prediction == 1) & (svm_predictions.stroke == 1)].count()\n",
    "tn = svm_predictions[(svm_predictions.prediction == 0) & (svm_predictions.stroke == 0)].count()\n",
    "fn = svm_predictions[(svm_predictions.prediction == 0) & (svm_predictions.stroke == 1)].count()\n",
    "fp = svm_predictions[(svm_predictions.prediction == 1) & (svm_predictions.stroke == 0)].count()\n",
    "    \n",
    "print(\"Confusion Matrix\")\n",
    "print(\"[\" + str(tp) + \"  \" + str(fp))\n",
    "print(\" \" + str(fn) + \"  \" + str(tn) + \"]\" + \"\\n\")\n",
    "\n",
    "precision = float((tp)/(tp + fp))\n",
    "recall = float((tp)/(tp + fn))\n",
    "\n",
    "print(\"Precision: \",precision)\n",
    "print(\"Recall: \",recall)\n",
    "print(\"F1 :\",float(2 * precision * recall / (precision + recall)))"
   ]
  },
  {
   "cell_type": "code",
   "execution_count": 98,
   "id": "ee050576",
   "metadata": {},
   "outputs": [
    {
     "name": "stdout",
     "output_type": "stream",
     "text": [
      "(9,[0,1,2,3,4,5,6,7,8],[0.555554031914557,0.11965801689364586,0.12653768394842635,0.04605057892910389,0.025307030316007752,0.0008777288235775946,0.005042472690163936,0.1049103174048371,0.01606213907968061])\n",
      "age 0.555554031914557\n",
      "hypertension 0.11965801689364586\n",
      "heart_disease 0.12653768394842635\n",
      "avg_glucose_level 0.04605057892910389\n",
      "stroke 0.025307030316007752\n",
      "gender_num 0.0008777288235775946\n",
      "ever_married_num 0.005042472690163936\n",
      "work_type_num 0.1049103174048371\n",
      "bmi_num 0.01606213907968061\n"
     ]
    }
   ],
   "source": [
    "\n",
    "rfc = RandomForestClassifier(labelCol=\"stroke\", featuresCol = \"features\")\n",
    "rfc_model = rfc.fit(train)\n",
    "rfc_predictions = rfc_model.transform(test)\n",
    "print(rfc_model.featureImportances)\n",
    "#train.printSchema()\n",
    "#train.columns\n",
    "\n",
    "for i in range(9):\n",
    "    print(train.columns[i], rfc_model.featureImportances[i])"
   ]
  },
  {
   "cell_type": "code",
   "execution_count": 99,
   "id": "a0570a1f",
   "metadata": {},
   "outputs": [
    {
     "name": "stdout",
     "output_type": "stream",
     "text": [
      "Neural network  ---------  Final model\n"
     ]
    },
    {
     "name": "stderr",
     "output_type": "stream",
     "text": [
      "                                                                                \r"
     ]
    },
    {
     "name": "stdout",
     "output_type": "stream",
     "text": [
      "Time Elapsed:  25.359779357910156\n",
      "Accuracy:  0.8358638714154626\n",
      "Confusion Matrix\n",
      "[107  1905\n",
      " 17  3859]\n",
      "\n",
      "Precision:  0.053180914512922464\n",
      "Recall:  0.8629032258064516\n",
      "F1 : 0.10018726591760299\n"
     ]
    }
   ],
   "source": [
    "from pyspark.ml.classification import MultilayerPerceptronClassifier\n",
    "print(\"Neural network  ---------  Final model\")\n",
    "start = time.time()\n",
    "mlp = MultilayerPerceptronClassifier(labelCol=\"stroke\", featuresCol = \"pca_features\", \n",
    "                                     maxIter=100, layers=[3, 16, 32, 2], stepSize=0.5)\n",
    "mlp_model = mlp.fit(train_oversample_pca)\n",
    "mlp_predictions = mlp_model.transform(test_pca)\n",
    "end = time.time()\n",
    "print(\"Time Elapsed: \", end - start)\n",
    "\n",
    "binary_eval = BinaryClassificationEvaluator(labelCol = 'stroke')\n",
    "print(\"Accuracy: \",binary_eval.evaluate(mlp_predictions))\n",
    "\n",
    "tp = mlp_predictions[(mlp_predictions.prediction == 1) & (mlp_predictions.stroke == 1)].count()\n",
    "tn = mlp_predictions[(mlp_predictions.prediction == 0) & (mlp_predictions.stroke == 0)].count()\n",
    "fn = mlp_predictions[(mlp_predictions.prediction == 0) & (mlp_predictions.stroke == 1)].count()\n",
    "fp = mlp_predictions[(mlp_predictions.prediction == 1) & (mlp_predictions.stroke == 0)].count()\n",
    "    \n",
    "print(\"Confusion Matrix\")\n",
    "print(\"[\" + str(tp) + \"  \" + str(fp))\n",
    "print(\" \" + str(fn) + \"  \" + str(tn) + \"]\" + \"\\n\")\n",
    "\n",
    "precision = float((tp)/(tp + fp))\n",
    "recall = float((tp)/(tp + fn))\n",
    "\n",
    "print(\"Precision: \",precision)\n",
    "print(\"Recall: \",recall)\n",
    "print(\"F1 :\",float(2 * precision * recall / (precision + recall)))"
   ]
  },
  {
   "cell_type": "code",
   "execution_count": 100,
   "id": "5659b77e",
   "metadata": {},
   "outputs": [
    {
     "name": "stderr",
     "output_type": "stream",
     "text": [
      "                                                                                \r"
     ]
    },
    {
     "data": {
      "text/plain": [
       "0.7398653052357158"
      ]
     },
     "execution_count": 100,
     "metadata": {},
     "output_type": "execute_result"
    }
   ],
   "source": [
    "summary = mlp_model.summary()\n",
    "summary.accuracy"
   ]
  },
  {
   "cell_type": "markdown",
   "id": "f2dbb18d",
   "metadata": {},
   "source": [
    "6.2 Model tuning"
   ]
  },
  {
   "cell_type": "code",
   "execution_count": 47,
   "id": "a7b842e4",
   "metadata": {},
   "outputs": [
    {
     "name": "stdout",
     "output_type": "stream",
     "text": [
      "Neural network - max_iter= 100 layers= [3, 8, 2] step_size= 0.5\n"
     ]
    },
    {
     "name": "stderr",
     "output_type": "stream",
     "text": [
      "                                                                                \r"
     ]
    },
    {
     "name": "stdout",
     "output_type": "stream",
     "text": [
      "Accuracy:  0.6448939104862128 Recall:  0.3684210526315789\n",
      "Neural network - max_iter= 100 layers= [3, 32, 2] step_size= 0.5\n"
     ]
    },
    {
     "name": "stderr",
     "output_type": "stream",
     "text": [
      "                                                                                \r"
     ]
    },
    {
     "name": "stdout",
     "output_type": "stream",
     "text": [
      "Accuracy:  0.808357739187497 Recall:  0.7894736842105263\n",
      "Neural network - max_iter= 100 layers= [3, 8, 32, 2] step_size= 0.5\n"
     ]
    },
    {
     "name": "stderr",
     "output_type": "stream",
     "text": [
      "                                                                                \r"
     ]
    },
    {
     "name": "stdout",
     "output_type": "stream",
     "text": [
      "Accuracy:  0.6315327686568073 Recall:  0.35789473684210527\n",
      "Neural network - max_iter= 100 layers= [3, 16, 32, 2] step_size= 0.5\n"
     ]
    },
    {
     "name": "stderr",
     "output_type": "stream",
     "text": [
      "                                                                                \r"
     ]
    },
    {
     "name": "stdout",
     "output_type": "stream",
     "text": [
      "Accuracy:  0.8134094471922091 Recall:  0.7947368421052632\n",
      "Neural network - max_iter= 100 layers= [3, 16, 32, 8, 2] step_size= 0.5\n",
      "Accuracy:  0.7803849846273501 Recall:  0.7473684210526316\n",
      "Neural network - max_iter= 100 layers= [3, 8, 2] step_size= 0.1\n"
     ]
    },
    {
     "name": "stderr",
     "output_type": "stream",
     "text": [
      "                                                                                \r"
     ]
    },
    {
     "name": "stdout",
     "output_type": "stream",
     "text": [
      "Accuracy:  0.6448939104862128 Recall:  0.3684210526315789\n",
      "Neural network - max_iter= 100 layers= [3, 32, 2] step_size= 0.1\n",
      "Accuracy:  0.808357739187497 Recall:  0.7894736842105263\n",
      "Neural network - max_iter= 100 layers= [3, 8, 32, 2] step_size= 0.1\n"
     ]
    },
    {
     "name": "stderr",
     "output_type": "stream",
     "text": [
      "                                                                                \r"
     ]
    },
    {
     "name": "stdout",
     "output_type": "stream",
     "text": [
      "Accuracy:  0.6315327686568073 Recall:  0.35789473684210527\n",
      "Neural network - max_iter= 100 layers= [3, 16, 32, 2] step_size= 0.1\n",
      "Accuracy:  0.8134094471922091 Recall:  0.7947368421052632\n",
      "Neural network - max_iter= 100 layers= [3, 16, 32, 8, 2] step_size= 0.1\n",
      "Accuracy:  0.7803849846273501 Recall:  0.7473684210526316\n",
      "Neural network - max_iter= 300 layers= [3, 8, 2] step_size= 0.5\n",
      "Accuracy:  0.6433463160325193 Recall:  0.3684210526315789\n",
      "Neural network - max_iter= 300 layers= [3, 32, 2] step_size= 0.5\n",
      "Accuracy:  0.8139623765023271 Recall:  0.7736842105263158\n",
      "Neural network - max_iter= 300 layers= [3, 8, 32, 2] step_size= 0.5\n"
     ]
    },
    {
     "name": "stderr",
     "output_type": "stream",
     "text": [
      "                                                                                \r"
     ]
    },
    {
     "name": "stdout",
     "output_type": "stream",
     "text": [
      "Accuracy:  0.6310579178261979 Recall:  0.35789473684210527\n",
      "Neural network - max_iter= 300 layers= [3, 16, 32, 2] step_size= 0.5\n",
      "Accuracy:  0.8141233943783439 Recall:  0.7789473684210526\n",
      "Neural network - max_iter= 300 layers= [3, 16, 32, 8, 2] step_size= 0.5\n",
      "Accuracy:  0.8151356803460965 Recall:  0.7736842105263158\n",
      "Neural network - max_iter= 300 layers= [3, 8, 2] step_size= 0.1\n",
      "Accuracy:  0.6433463160325193 Recall:  0.3684210526315789\n",
      "Neural network - max_iter= 300 layers= [3, 32, 2] step_size= 0.1\n",
      "Accuracy:  0.8139623765023271 Recall:  0.7736842105263158\n",
      "Neural network - max_iter= 300 layers= [3, 8, 32, 2] step_size= 0.1\n",
      "Accuracy:  0.6310579178261979 Recall:  0.35789473684210527\n",
      "Neural network - max_iter= 300 layers= [3, 16, 32, 2] step_size= 0.1\n",
      "Accuracy:  0.8141233943783439 Recall:  0.7789473684210526\n",
      "Neural network - max_iter= 300 layers= [3, 16, 32, 8, 2] step_size= 0.1\n",
      "Accuracy:  0.8151356803460965 Recall:  0.7736842105263158\n",
      "Best paramerters for MLP is:\n",
      " max_iter= 100 layers= [3, 16, 32, 2] step_size= 0.5\n"
     ]
    }
   ],
   "source": [
    "maxIter=[100, 300]\n",
    "stepSize=[0.5, 0.1]\n",
    "layers=[[3, 8, 2], \n",
    "       [3, 32, 2],\n",
    "       [3, 8, 32, 2],\n",
    "       [3, 16, 32, 2],\n",
    "       [3, 16, 32, 8, 2]]\n",
    "\n",
    "best = 0\n",
    "best_mi = 0\n",
    "best_ss = 0\n",
    "best_ly = 0\n",
    "for mi in maxIter:\n",
    "    for ss in stepSize:\n",
    "        for ly in layers:\n",
    "            print(\"Neural network -\",'max_iter=',mi,'layers=',ly, 'step_size=',ss)\n",
    "            start = time.time()\n",
    "            mlp = MultilayerPerceptronClassifier(labelCol=\"stroke\", featuresCol = \"pca_features\", maxIter=mi, layers=ly, stepSize=ss)\n",
    "            mlp_model = mlp.fit(train_oversample_pca)\n",
    "            mlp_predictions = mlp_model.transform(test_pca)\n",
    "            end = time.time()\n",
    "\n",
    "            binary_eval = BinaryClassificationEvaluator(labelCol = 'stroke')\n",
    "            accuracy = binary_eval.evaluate(mlp_predictions)\n",
    "\n",
    "            tp = mlp_predictions[(mlp_predictions.prediction == 1) & (mlp_predictions.stroke == 1)].count()\n",
    "            tn = mlp_predictions[(mlp_predictions.prediction == 0) & (mlp_predictions.stroke == 0)].count()\n",
    "            fn = mlp_predictions[(mlp_predictions.prediction == 0) & (mlp_predictions.stroke == 1)].count()\n",
    "            fp = mlp_predictions[(mlp_predictions.prediction == 1) & (mlp_predictions.stroke == 0)].count()\n",
    "\n",
    "            recall = float((tp)/(tp + fn))\n",
    "            print(\"Accuracy: \",accuracy,\"Recall: \",recall)\n",
    "            acc_rec = accuracy + recall\n",
    "            if acc_rec > best:\n",
    "                best = acc_rec\n",
    "                best_mi = mi\n",
    "                best_ss = ss\n",
    "                best_ly = ly\n",
    "\n",
    "print('Best paramerters for MLP is:\\n', 'max_iter=',best_mi,'layers=',best_ly, 'step_size=',best_ss)"
   ]
  },
  {
   "cell_type": "code",
   "execution_count": 48,
   "id": "a38bec4a",
   "metadata": {},
   "outputs": [
    {
     "name": "stdout",
     "output_type": "stream",
     "text": [
      "Neural network - max_iter= 100 layers= [3, 8, 2] step_size= 0.5\n",
      "Accuracy:  0.6448939104862128 Recall:  0.3684210526315789\n",
      "Neural network - max_iter= 100 layers= [3, 8, 2] step_size= 0.1\n",
      "Accuracy:  0.6448939104862128 Recall:  0.3684210526315789\n",
      "Neural network - max_iter= 100 layers= [3, 8, 2] step_size= 0.05\n",
      "Accuracy:  0.6448939104862128 Recall:  0.3684210526315789\n",
      "Neural network - max_iter= 100 layers= [3, 8, 2] step_size= 0.01\n",
      "Accuracy:  0.6448939104862128 Recall:  0.3684210526315789\n",
      "Neural network - max_iter= 100 layers= [3, 8, 2] step_size= 0.001\n",
      "Accuracy:  0.6448939104862128 Recall:  0.3684210526315789\n",
      "Neural network - max_iter= 300 layers= [3, 8, 2] step_size= 0.5\n",
      "Accuracy:  0.6433463160325193 Recall:  0.3684210526315789\n",
      "Neural network - max_iter= 300 layers= [3, 8, 2] step_size= 0.1\n",
      "Accuracy:  0.6433463160325193 Recall:  0.3684210526315789\n",
      "Neural network - max_iter= 300 layers= [3, 8, 2] step_size= 0.05\n",
      "Accuracy:  0.6433463160325193 Recall:  0.3684210526315789\n",
      "Neural network - max_iter= 300 layers= [3, 8, 2] step_size= 0.01\n",
      "Accuracy:  0.6433463160325193 Recall:  0.3684210526315789\n",
      "Neural network - max_iter= 300 layers= [3, 8, 2] step_size= 0.001\n",
      "Accuracy:  0.6433463160325193 Recall:  0.3684210526315789\n",
      "Neural network - max_iter= 500 layers= [3, 8, 2] step_size= 0.5\n",
      "Accuracy:  0.6433463160325193 Recall:  0.3684210526315789\n",
      "Neural network - max_iter= 500 layers= [3, 8, 2] step_size= 0.1\n"
     ]
    },
    {
     "name": "stderr",
     "output_type": "stream",
     "text": [
      "                                                                                \r"
     ]
    },
    {
     "name": "stdout",
     "output_type": "stream",
     "text": [
      "Accuracy:  0.6433463160325193 Recall:  0.3684210526315789\n",
      "Neural network - max_iter= 500 layers= [3, 8, 2] step_size= 0.05\n",
      "Accuracy:  0.6433463160325193 Recall:  0.3684210526315789\n",
      "Neural network - max_iter= 500 layers= [3, 8, 2] step_size= 0.01\n",
      "Accuracy:  0.6433463160325193 Recall:  0.3684210526315789\n",
      "Neural network - max_iter= 500 layers= [3, 8, 2] step_size= 0.001\n",
      "Accuracy:  0.6433463160325193 Recall:  0.3684210526315789\n",
      "Neural network - max_iter= 1000 layers= [3, 8, 2] step_size= 0.5\n",
      "Accuracy:  0.6433463160325193 Recall:  0.3684210526315789\n",
      "Neural network - max_iter= 1000 layers= [3, 8, 2] step_size= 0.1\n",
      "Accuracy:  0.6433463160325193 Recall:  0.3684210526315789\n",
      "Neural network - max_iter= 1000 layers= [3, 8, 2] step_size= 0.05\n",
      "Accuracy:  0.6433463160325193 Recall:  0.3684210526315789\n",
      "Neural network - max_iter= 1000 layers= [3, 8, 2] step_size= 0.01\n",
      "Accuracy:  0.6433463160325193 Recall:  0.3684210526315789\n",
      "Neural network - max_iter= 1000 layers= [3, 8, 2] step_size= 0.001\n",
      "Accuracy:  0.6433463160325193 Recall:  0.3684210526315789\n",
      "Neural network - max_iter= 2000 layers= [3, 8, 2] step_size= 0.5\n",
      "Accuracy:  0.6433463160325193 Recall:  0.3684210526315789\n",
      "Neural network - max_iter= 2000 layers= [3, 8, 2] step_size= 0.1\n",
      "Accuracy:  0.6433463160325193 Recall:  0.3684210526315789\n",
      "Neural network - max_iter= 2000 layers= [3, 8, 2] step_size= 0.05\n",
      "Accuracy:  0.6433463160325193 Recall:  0.3684210526315789\n",
      "Neural network - max_iter= 2000 layers= [3, 8, 2] step_size= 0.01\n",
      "Accuracy:  0.6433463160325193 Recall:  0.3684210526315789\n",
      "Neural network - max_iter= 2000 layers= [3, 8, 2] step_size= 0.001\n",
      "Accuracy:  0.6433463160325193 Recall:  0.3684210526315789\n",
      "Neural network - max_iter= 5000 layers= [3, 8, 2] step_size= 0.5\n",
      "Accuracy:  0.6433463160325193 Recall:  0.3684210526315789\n",
      "Neural network - max_iter= 5000 layers= [3, 8, 2] step_size= 0.1\n",
      "Accuracy:  0.6433463160325193 Recall:  0.3684210526315789\n",
      "Neural network - max_iter= 5000 layers= [3, 8, 2] step_size= 0.05\n",
      "Accuracy:  0.6433463160325193 Recall:  0.3684210526315789\n",
      "Neural network - max_iter= 5000 layers= [3, 8, 2] step_size= 0.01\n",
      "Accuracy:  0.6433463160325193 Recall:  0.3684210526315789\n",
      "Neural network - max_iter= 5000 layers= [3, 8, 2] step_size= 0.001\n",
      "Accuracy:  0.6433463160325193 Recall:  0.3684210526315789\n",
      "Best paramerters for MLP is:\n",
      " max_iter= 100 layers= [3, 8, 2] step_size= 0.5\n"
     ]
    }
   ],
   "source": [
    "maxIter=[100, 300, 500, 1000, 2000, 5000]\n",
    "stepSize=[0.5, 0.1, 0.05, 0.01, 0.001]\n",
    "layers=[[3, 8, 2]]\n",
    "\n",
    "best = 0\n",
    "best_mi = 0\n",
    "best_ss = 0\n",
    "best_ly = 0\n",
    "for mi in maxIter:\n",
    "    for ss in stepSize:\n",
    "        for ly in layers:\n",
    "            print(\"Neural network -\",'max_iter=',mi,'layers=',ly, 'step_size=',ss)\n",
    "            start = time.time()\n",
    "            mlp = MultilayerPerceptronClassifier(labelCol=\"stroke\", featuresCol = \"pca_features\", maxIter=mi, layers=ly, stepSize=ss)\n",
    "            mlp_model = mlp.fit(train_oversample_pca)\n",
    "            mlp_predictions = mlp_model.transform(test_pca)\n",
    "            end = time.time()\n",
    "\n",
    "            binary_eval = BinaryClassificationEvaluator(labelCol = 'stroke')\n",
    "            accuracy = binary_eval.evaluate(mlp_predictions)\n",
    "\n",
    "            tp = mlp_predictions[(mlp_predictions.prediction == 1) & (mlp_predictions.stroke == 1)].count()\n",
    "            tn = mlp_predictions[(mlp_predictions.prediction == 0) & (mlp_predictions.stroke == 0)].count()\n",
    "            fn = mlp_predictions[(mlp_predictions.prediction == 0) & (mlp_predictions.stroke == 1)].count()\n",
    "            fp = mlp_predictions[(mlp_predictions.prediction == 1) & (mlp_predictions.stroke == 0)].count()\n",
    "\n",
    "            recall = float((tp)/(tp + fn))\n",
    "            print(\"Accuracy: \",accuracy,\"Recall: \",recall)\n",
    "            acc_rec = accuracy + recall\n",
    "            if acc_rec > best:\n",
    "                best = acc_rec\n",
    "                best_mi = mi\n",
    "                best_ss = ss\n",
    "                best_ly = ly\n",
    "\n",
    "print('Best paramerters for MLP is:\\n', 'max_iter=',best_mi,'layers=',best_ly, 'step_size=',best_ss)"
   ]
  },
  {
   "cell_type": "code",
   "execution_count": 49,
   "id": "f26fc15f",
   "metadata": {},
   "outputs": [
    {
     "name": "stdout",
     "output_type": "stream",
     "text": [
      "Neural network - max_iter= 100 layers= [3, 32, 2] step_size= 0.5\n"
     ]
    },
    {
     "name": "stderr",
     "output_type": "stream",
     "text": [
      "                                                                                \r"
     ]
    },
    {
     "name": "stdout",
     "output_type": "stream",
     "text": [
      "Accuracy:  0.808357739187497 Recall:  0.7894736842105263\n",
      "Neural network - max_iter= 100 layers= [3, 32, 2] step_size= 0.1\n",
      "Accuracy:  0.808357739187497 Recall:  0.7894736842105263\n",
      "Neural network - max_iter= 100 layers= [3, 32, 2] step_size= 0.05\n",
      "Accuracy:  0.808357739187497 Recall:  0.7894736842105263\n",
      "Neural network - max_iter= 100 layers= [3, 32, 2] step_size= 0.01\n",
      "Accuracy:  0.808357739187497 Recall:  0.7894736842105263\n",
      "Neural network - max_iter= 100 layers= [3, 32, 2] step_size= 0.001\n",
      "Accuracy:  0.808357739187497 Recall:  0.7894736842105263\n",
      "Neural network - max_iter= 300 layers= [3, 32, 2] step_size= 0.5\n",
      "Accuracy:  0.8139623765023271 Recall:  0.7736842105263158\n",
      "Neural network - max_iter= 300 layers= [3, 32, 2] step_size= 0.1\n",
      "Accuracy:  0.8139623765023271 Recall:  0.7736842105263158\n",
      "Neural network - max_iter= 300 layers= [3, 32, 2] step_size= 0.05\n",
      "Accuracy:  0.8139623765023271 Recall:  0.7736842105263158\n",
      "Neural network - max_iter= 300 layers= [3, 32, 2] step_size= 0.01\n",
      "Accuracy:  0.8139623765023271 Recall:  0.7736842105263158\n",
      "Neural network - max_iter= 300 layers= [3, 32, 2] step_size= 0.001\n"
     ]
    },
    {
     "name": "stderr",
     "output_type": "stream",
     "text": [
      "                                                                                \r"
     ]
    },
    {
     "name": "stdout",
     "output_type": "stream",
     "text": [
      "Accuracy:  0.8139623765023271 Recall:  0.7736842105263158\n",
      "Neural network - max_iter= 500 layers= [3, 32, 2] step_size= 0.5\n"
     ]
    },
    {
     "name": "stderr",
     "output_type": "stream",
     "text": [
      "                                                                                \r"
     ]
    },
    {
     "name": "stdout",
     "output_type": "stream",
     "text": [
      "Accuracy:  0.8166316275565348 Recall:  0.7684210526315789\n",
      "Neural network - max_iter= 500 layers= [3, 32, 2] step_size= 0.1\n",
      "Accuracy:  0.8166316275565348 Recall:  0.7684210526315789\n",
      "Neural network - max_iter= 500 layers= [3, 32, 2] step_size= 0.05\n",
      "Accuracy:  0.8166316275565348 Recall:  0.7684210526315789\n",
      "Neural network - max_iter= 500 layers= [3, 32, 2] step_size= 0.01\n",
      "Accuracy:  0.8166316275565348 Recall:  0.7684210526315789\n",
      "Neural network - max_iter= 500 layers= [3, 32, 2] step_size= 0.001\n",
      "Accuracy:  0.8166316275565348 Recall:  0.7684210526315789\n",
      "Neural network - max_iter= 1000 layers= [3, 32, 2] step_size= 0.5\n",
      "Accuracy:  0.8146489810302698 Recall:  0.7631578947368421\n",
      "Neural network - max_iter= 1000 layers= [3, 32, 2] step_size= 0.1\n",
      "Accuracy:  0.8146489810302698 Recall:  0.7631578947368421\n",
      "Neural network - max_iter= 1000 layers= [3, 32, 2] step_size= 0.05\n",
      "Accuracy:  0.8146489810302698 Recall:  0.7631578947368421\n",
      "Neural network - max_iter= 1000 layers= [3, 32, 2] step_size= 0.01\n",
      "Accuracy:  0.8146489810302698 Recall:  0.7631578947368421\n",
      "Neural network - max_iter= 1000 layers= [3, 32, 2] step_size= 0.001\n",
      "Accuracy:  0.8146489810302698 Recall:  0.7631578947368421\n",
      "Neural network - max_iter= 2000 layers= [3, 32, 2] step_size= 0.5\n",
      "Accuracy:  0.8059959411342887 Recall:  0.7736842105263158\n",
      "Neural network - max_iter= 2000 layers= [3, 32, 2] step_size= 0.1\n",
      "Accuracy:  0.8059959411342887 Recall:  0.7736842105263158\n",
      "Neural network - max_iter= 2000 layers= [3, 32, 2] step_size= 0.05\n",
      "Accuracy:  0.8059959411342887 Recall:  0.7736842105263158\n",
      "Neural network - max_iter= 2000 layers= [3, 32, 2] step_size= 0.01\n",
      "Accuracy:  0.8059959411342887 Recall:  0.7736842105263158\n",
      "Neural network - max_iter= 2000 layers= [3, 32, 2] step_size= 0.001\n",
      "Accuracy:  0.8059959411342887 Recall:  0.7736842105263158\n",
      "Neural network - max_iter= 5000 layers= [3, 32, 2] step_size= 0.5\n",
      "Accuracy:  0.8023551142923017 Recall:  0.7842105263157895\n",
      "Neural network - max_iter= 5000 layers= [3, 32, 2] step_size= 0.1\n",
      "Accuracy:  0.8023551142923017 Recall:  0.7842105263157895\n",
      "Neural network - max_iter= 5000 layers= [3, 32, 2] step_size= 0.05\n"
     ]
    },
    {
     "name": "stderr",
     "output_type": "stream",
     "text": [
      "22/10/15 13:53:19 WARN BlockManager: Asked to remove block broadcast_93076, which does not exist\n"
     ]
    },
    {
     "name": "stdout",
     "output_type": "stream",
     "text": [
      "Accuracy:  0.8023551142923017 Recall:  0.7842105263157895\n",
      "Neural network - max_iter= 5000 layers= [3, 32, 2] step_size= 0.01\n",
      "Accuracy:  0.8023551142923017 Recall:  0.7842105263157895\n",
      "Neural network - max_iter= 5000 layers= [3, 32, 2] step_size= 0.001\n",
      "Accuracy:  0.8023551142923017 Recall:  0.7842105263157895\n",
      "Best paramerters for MLP is:\n",
      " max_iter= 100 layers= [3, 32, 2] step_size= 0.5\n"
     ]
    }
   ],
   "source": [
    "maxIter=[100, 300, 500, 1000, 2000, 5000]\n",
    "stepSize=[0.5, 0.1, 0.05, 0.01, 0.001]\n",
    "layers=[[3, 32, 2]]\n",
    "\n",
    "best = 0\n",
    "best_mi = 0\n",
    "best_ss = 0\n",
    "best_ly = 0\n",
    "for mi in maxIter:\n",
    "    for ss in stepSize:\n",
    "        for ly in layers:\n",
    "            print(\"Neural network -\",'max_iter=',mi,'layers=',ly, 'step_size=',ss)\n",
    "            start = time.time()\n",
    "            mlp = MultilayerPerceptronClassifier(labelCol=\"stroke\", featuresCol = \"pca_features\", maxIter=mi, layers=ly, stepSize=ss)\n",
    "            mlp_model = mlp.fit(train_oversample_pca)\n",
    "            mlp_predictions = mlp_model.transform(test_pca)\n",
    "            end = time.time()\n",
    "\n",
    "            binary_eval = BinaryClassificationEvaluator(labelCol = 'stroke')\n",
    "            accuracy = binary_eval.evaluate(mlp_predictions)\n",
    "\n",
    "            tp = mlp_predictions[(mlp_predictions.prediction == 1) & (mlp_predictions.stroke == 1)].count()\n",
    "            tn = mlp_predictions[(mlp_predictions.prediction == 0) & (mlp_predictions.stroke == 0)].count()\n",
    "            fn = mlp_predictions[(mlp_predictions.prediction == 0) & (mlp_predictions.stroke == 1)].count()\n",
    "            fp = mlp_predictions[(mlp_predictions.prediction == 1) & (mlp_predictions.stroke == 0)].count()\n",
    "\n",
    "            recall = float((tp)/(tp + fn))\n",
    "            print(\"Accuracy: \",accuracy,\"Recall: \",recall)\n",
    "            acc_rec = accuracy + recall\n",
    "            if acc_rec > best:\n",
    "                best = acc_rec\n",
    "                best_mi = mi\n",
    "                best_ss = ss\n",
    "                best_ly = ly\n",
    "\n",
    "print('Best paramerters for MLP is:\\n', 'max_iter=',best_mi,'layers=',best_ly, 'step_size=',best_ss)"
   ]
  },
  {
   "cell_type": "code",
   "execution_count": 50,
   "id": "c2063640",
   "metadata": {},
   "outputs": [
    {
     "name": "stdout",
     "output_type": "stream",
     "text": [
      "Neural network - max_iter= 100 layers= [3, 8, 32, 2] step_size= 0.5\n",
      "Accuracy:  0.6315327686568073 Recall:  0.35789473684210527\n",
      "Neural network - max_iter= 100 layers= [3, 8, 32, 2] step_size= 0.1\n",
      "Accuracy:  0.6315327686568073 Recall:  0.35789473684210527\n",
      "Neural network - max_iter= 100 layers= [3, 8, 32, 2] step_size= 0.05\n",
      "Accuracy:  0.6315327686568073 Recall:  0.35789473684210527\n",
      "Neural network - max_iter= 100 layers= [3, 8, 32, 2] step_size= 0.01\n",
      "Accuracy:  0.6315327686568073 Recall:  0.35789473684210527\n",
      "Neural network - max_iter= 100 layers= [3, 8, 32, 2] step_size= 0.001\n",
      "Accuracy:  0.6315327686568073 Recall:  0.35789473684210527\n",
      "Neural network - max_iter= 300 layers= [3, 8, 32, 2] step_size= 0.5\n",
      "Accuracy:  0.6310579178261979 Recall:  0.35789473684210527\n",
      "Neural network - max_iter= 300 layers= [3, 8, 32, 2] step_size= 0.1\n",
      "Accuracy:  0.6310579178261979 Recall:  0.35789473684210527\n",
      "Neural network - max_iter= 300 layers= [3, 8, 32, 2] step_size= 0.05\n",
      "Accuracy:  0.6310579178261979 Recall:  0.35789473684210527\n",
      "Neural network - max_iter= 300 layers= [3, 8, 32, 2] step_size= 0.01\n",
      "Accuracy:  0.6310579178261979 Recall:  0.35789473684210527\n",
      "Neural network - max_iter= 300 layers= [3, 8, 32, 2] step_size= 0.001\n",
      "Accuracy:  0.6310579178261979 Recall:  0.35789473684210527\n",
      "Neural network - max_iter= 500 layers= [3, 8, 32, 2] step_size= 0.5\n"
     ]
    },
    {
     "name": "stderr",
     "output_type": "stream",
     "text": [
      "22/10/15 14:22:54 WARN BlockManager: Asked to remove block broadcast_133364, which does not exist\n"
     ]
    },
    {
     "name": "stdout",
     "output_type": "stream",
     "text": [
      "Accuracy:  0.6321103063592947 Recall:  0.35789473684210527\n",
      "Neural network - max_iter= 500 layers= [3, 8, 32, 2] step_size= 0.1\n"
     ]
    },
    {
     "name": "stderr",
     "output_type": "stream",
     "text": [
      "                                                                                \r"
     ]
    },
    {
     "name": "stdout",
     "output_type": "stream",
     "text": [
      "Accuracy:  0.6321103063592947 Recall:  0.35789473684210527\n",
      "Neural network - max_iter= 500 layers= [3, 8, 32, 2] step_size= 0.05\n"
     ]
    },
    {
     "name": "stderr",
     "output_type": "stream",
     "text": [
      "22/10/15 14:25:01 WARN BlockManager: Asked to remove block broadcast_135372, which does not exist\n"
     ]
    },
    {
     "name": "stdout",
     "output_type": "stream",
     "text": [
      "Accuracy:  0.6321103063592947 Recall:  0.35789473684210527\n",
      "Neural network - max_iter= 500 layers= [3, 8, 32, 2] step_size= 0.01\n"
     ]
    },
    {
     "name": "stderr",
     "output_type": "stream",
     "text": [
      "22/10/15 14:26:10 WARN BlockManager: Asked to remove block broadcast_136506, which does not exist\n"
     ]
    },
    {
     "name": "stdout",
     "output_type": "stream",
     "text": [
      "Accuracy:  0.6321103063592947 Recall:  0.35789473684210527\n",
      "Neural network - max_iter= 500 layers= [3, 8, 32, 2] step_size= 0.001\n",
      "Accuracy:  0.6321103063592947 Recall:  0.35789473684210527\n",
      "Neural network - max_iter= 1000 layers= [3, 8, 32, 2] step_size= 0.5\n",
      "Accuracy:  0.6321103063592947 Recall:  0.35789473684210527\n",
      "Neural network - max_iter= 1000 layers= [3, 8, 32, 2] step_size= 0.1\n"
     ]
    },
    {
     "name": "stderr",
     "output_type": "stream",
     "text": [
      "                                                                                \r"
     ]
    },
    {
     "name": "stdout",
     "output_type": "stream",
     "text": [
      "Accuracy:  0.6321103063592947 Recall:  0.35789473684210527\n",
      "Neural network - max_iter= 1000 layers= [3, 8, 32, 2] step_size= 0.05\n",
      "Accuracy:  0.6321103063592947 Recall:  0.35789473684210527\n",
      "Neural network - max_iter= 1000 layers= [3, 8, 32, 2] step_size= 0.01\n",
      "Accuracy:  0.6321103063592947 Recall:  0.35789473684210527\n",
      "Neural network - max_iter= 1000 layers= [3, 8, 32, 2] step_size= 0.001\n",
      "Accuracy:  0.6321103063592947 Recall:  0.35789473684210527\n",
      "Neural network - max_iter= 2000 layers= [3, 8, 32, 2] step_size= 0.5\n",
      "Accuracy:  0.6321103063592947 Recall:  0.35789473684210527\n",
      "Neural network - max_iter= 2000 layers= [3, 8, 32, 2] step_size= 0.1\n",
      "Accuracy:  0.6321103063592947 Recall:  0.35789473684210527\n",
      "Neural network - max_iter= 2000 layers= [3, 8, 32, 2] step_size= 0.05\n",
      "Accuracy:  0.6321103063592947 Recall:  0.35789473684210527\n",
      "Neural network - max_iter= 2000 layers= [3, 8, 32, 2] step_size= 0.01\n"
     ]
    },
    {
     "name": "stderr",
     "output_type": "stream",
     "text": [
      "                                                                                \r"
     ]
    },
    {
     "name": "stdout",
     "output_type": "stream",
     "text": [
      "Accuracy:  0.6321103063592947 Recall:  0.35789473684210527\n",
      "Neural network - max_iter= 2000 layers= [3, 8, 32, 2] step_size= 0.001\n",
      "Accuracy:  0.6321103063592947 Recall:  0.35789473684210527\n",
      "Neural network - max_iter= 5000 layers= [3, 8, 32, 2] step_size= 0.5\n",
      "Accuracy:  0.6321103063592947 Recall:  0.35789473684210527\n",
      "Neural network - max_iter= 5000 layers= [3, 8, 32, 2] step_size= 0.1\n",
      "Accuracy:  0.6321103063592947 Recall:  0.35789473684210527\n",
      "Neural network - max_iter= 5000 layers= [3, 8, 32, 2] step_size= 0.05\n"
     ]
    },
    {
     "name": "stderr",
     "output_type": "stream",
     "text": [
      "22/10/15 14:40:38 WARN BlockManager: Asked to remove block broadcast_150308, which does not exist\n"
     ]
    },
    {
     "name": "stdout",
     "output_type": "stream",
     "text": [
      "Accuracy:  0.6321103063592947 Recall:  0.35789473684210527\n",
      "Neural network - max_iter= 5000 layers= [3, 8, 32, 2] step_size= 0.01\n",
      "Accuracy:  0.6321103063592947 Recall:  0.35789473684210527\n",
      "Neural network - max_iter= 5000 layers= [3, 8, 32, 2] step_size= 0.001\n"
     ]
    },
    {
     "name": "stderr",
     "output_type": "stream",
     "text": [
      "22/10/15 14:42:36 WARN BlockManager: Asked to remove block broadcast_152134, which does not exist\n"
     ]
    },
    {
     "name": "stdout",
     "output_type": "stream",
     "text": [
      "Accuracy:  0.6321103063592947 Recall:  0.35789473684210527\n",
      "Best paramerters for MLP is:\n",
      " max_iter= 500 layers= [3, 8, 32, 2] step_size= 0.5\n"
     ]
    }
   ],
   "source": [
    "maxIter=[100, 300, 500, 1000, 2000, 5000]\n",
    "stepSize=[0.5, 0.1, 0.05, 0.01, 0.001]\n",
    "layers=[[3, 8, 32, 2]]\n",
    "\n",
    "best = 0\n",
    "best_mi = 0\n",
    "best_ss = 0\n",
    "best_ly = 0\n",
    "for mi in maxIter:\n",
    "    for ss in stepSize:\n",
    "        for ly in layers:\n",
    "            print(\"Neural network -\",'max_iter=',mi,'layers=',ly, 'step_size=',ss)\n",
    "            start = time.time()\n",
    "            mlp = MultilayerPerceptronClassifier(labelCol=\"stroke\", featuresCol = \"pca_features\", maxIter=mi, layers=ly, stepSize=ss)\n",
    "            mlp_model = mlp.fit(train_oversample_pca)\n",
    "            mlp_predictions = mlp_model.transform(test_pca)\n",
    "            end = time.time()\n",
    "\n",
    "            binary_eval = BinaryClassificationEvaluator(labelCol = 'stroke')\n",
    "            accuracy = binary_eval.evaluate(mlp_predictions)\n",
    "\n",
    "            tp = mlp_predictions[(mlp_predictions.prediction == 1) & (mlp_predictions.stroke == 1)].count()\n",
    "            tn = mlp_predictions[(mlp_predictions.prediction == 0) & (mlp_predictions.stroke == 0)].count()\n",
    "            fn = mlp_predictions[(mlp_predictions.prediction == 0) & (mlp_predictions.stroke == 1)].count()\n",
    "            fp = mlp_predictions[(mlp_predictions.prediction == 1) & (mlp_predictions.stroke == 0)].count()\n",
    "\n",
    "            recall = float((tp)/(tp + fn))\n",
    "            print(\"Accuracy: \",accuracy,\"Recall: \",recall)\n",
    "            acc_rec = accuracy + recall\n",
    "            if acc_rec > best:\n",
    "                best = acc_rec\n",
    "                best_mi = mi\n",
    "                best_ss = ss\n",
    "                best_ly = ly\n",
    "\n",
    "print('Best paramerters for MLP is:\\n', 'max_iter=',best_mi,'layers=',best_ly, 'step_size=',best_ss)"
   ]
  },
  {
   "cell_type": "code",
   "execution_count": null,
   "id": "58aefeaf",
   "metadata": {},
   "outputs": [
    {
     "name": "stdout",
     "output_type": "stream",
     "text": [
      "Neural network - max_iter= 100 layers= [3, 16, 32, 8, 2] step_size= 0.5\n",
      "Accuracy:  0.7803849846273501 Recall:  0.7473684210526316\n",
      "Neural network - max_iter= 100 layers= [3, 16, 32, 8, 2] step_size= 0.1\n",
      "Accuracy:  0.7803849846273501 Recall:  0.7473684210526316\n",
      "Neural network - max_iter= 100 layers= [3, 16, 32, 8, 2] step_size= 0.05\n",
      "Accuracy:  0.7803849846273501 Recall:  0.7473684210526316\n",
      "Neural network - max_iter= 100 layers= [3, 16, 32, 8, 2] step_size= 0.01\n",
      "Accuracy:  0.7803849846273501 Recall:  0.7473684210526316\n",
      "Neural network - max_iter= 100 layers= [3, 16, 32, 8, 2] step_size= 0.001\n",
      "Accuracy:  0.7803849846273501 Recall:  0.7473684210526316\n",
      "Neural network - max_iter= 300 layers= [3, 16, 32, 8, 2] step_size= 0.5\n",
      "Accuracy:  0.8151356803460965 Recall:  0.7736842105263158\n",
      "Neural network - max_iter= 300 layers= [3, 16, 32, 8, 2] step_size= 0.1\n",
      "Accuracy:  0.8151356803460965 Recall:  0.7736842105263158\n",
      "Neural network - max_iter= 300 layers= [3, 16, 32, 8, 2] step_size= 0.05\n",
      "Accuracy:  0.8151356803460965 Recall:  0.7736842105263158\n",
      "Neural network - max_iter= 300 layers= [3, 16, 32, 8, 2] step_size= 0.01\n",
      "Accuracy:  0.8151356803460965 Recall:  0.7736842105263158\n",
      "Neural network - max_iter= 300 layers= [3, 16, 32, 8, 2] step_size= 0.001\n",
      "Accuracy:  0.8151356803460965 Recall:  0.7736842105263158\n",
      "Neural network - max_iter= 500 layers= [3, 16, 32, 8, 2] step_size= 0.5\n",
      "Accuracy:  0.8146836150639808 Recall:  0.7736842105263158\n",
      "Neural network - max_iter= 500 layers= [3, 16, 32, 8, 2] step_size= 0.1\n",
      "Accuracy:  0.8146836150639808 Recall:  0.7736842105263158\n",
      "Neural network - max_iter= 500 layers= [3, 16, 32, 8, 2] step_size= 0.05\n",
      "Accuracy:  0.8146836150639808 Recall:  0.7736842105263158\n",
      "Neural network - max_iter= 500 layers= [3, 16, 32, 8, 2] step_size= 0.01\n",
      "Accuracy:  0.8146836150639808 Recall:  0.7736842105263158\n",
      "Neural network - max_iter= 500 layers= [3, 16, 32, 8, 2] step_size= 0.001\n",
      "Accuracy:  0.8146836150639808 Recall:  0.7736842105263158\n",
      "Neural network - max_iter= 1000 layers= [3, 16, 32, 8, 2] step_size= 0.5\n"
     ]
    },
    {
     "name": "stderr",
     "output_type": "stream",
     "text": [
      "22/10/15 15:00:30 WARN BlockManager: Asked to remove block broadcast_166334, which does not exist\n",
      "                                                                                \r"
     ]
    },
    {
     "name": "stdout",
     "output_type": "stream",
     "text": [
      "Accuracy:  0.8146981978150171 Recall:  0.7684210526315789\n",
      "Neural network - max_iter= 1000 layers= [3, 16, 32, 8, 2] step_size= 0.1\n",
      "Accuracy:  0.8146981978150171 Recall:  0.7684210526315789\n",
      "Neural network - max_iter= 1000 layers= [3, 16, 32, 8, 2] step_size= 0.05\n",
      "Accuracy:  0.8146981978150171 Recall:  0.7684210526315789\n",
      "Neural network - max_iter= 1000 layers= [3, 16, 32, 8, 2] step_size= 0.01\n",
      "Accuracy:  0.8146981978150171 Recall:  0.7684210526315789\n",
      "Neural network - max_iter= 1000 layers= [3, 16, 32, 8, 2] step_size= 0.001\n",
      "Accuracy:  0.8146981978150171 Recall:  0.7684210526315789\n",
      "Neural network - max_iter= 2000 layers= [3, 16, 32, 8, 2] step_size= 0.5\n",
      "Accuracy:  0.8120344152924444 Recall:  0.7578947368421053\n",
      "Neural network - max_iter= 2000 layers= [3, 16, 32, 8, 2] step_size= 0.1\n",
      "Accuracy:  0.8120344152924444 Recall:  0.7578947368421053\n",
      "Neural network - max_iter= 2000 layers= [3, 16, 32, 8, 2] step_size= 0.05\n"
     ]
    },
    {
     "name": "stderr",
     "output_type": "stream",
     "text": [
      "                                                                                \r"
     ]
    },
    {
     "name": "stdout",
     "output_type": "stream",
     "text": [
      "Accuracy:  0.8120344152924444 Recall:  0.7578947368421053\n",
      "Neural network - max_iter= 2000 layers= [3, 16, 32, 8, 2] step_size= 0.01\n",
      "Accuracy:  0.8120344152924444 Recall:  0.7578947368421053\n",
      "Neural network - max_iter= 2000 layers= [3, 16, 32, 8, 2] step_size= 0.001\n"
     ]
    },
    {
     "name": "stderr",
     "output_type": "stream",
     "text": [
      "22/10/15 15:45:16 WARN BlockManager: Asked to remove block broadcast_201264, which does not exist\n"
     ]
    },
    {
     "name": "stdout",
     "output_type": "stream",
     "text": [
      "Accuracy:  0.8120344152924444 Recall:  0.7578947368421053\n",
      "Neural network - max_iter= 5000 layers= [3, 16, 32, 8, 2] step_size= 0.5\n"
     ]
    },
    {
     "name": "stderr",
     "output_type": "stream",
     "text": [
      "22/10/15 16:04:09 WARN BlockManager: Asked to remove block broadcast_215092, which does not exist\n",
      "                                                                                \r"
     ]
    },
    {
     "name": "stdout",
     "output_type": "stream",
     "text": [
      "Accuracy:  0.7900533485642051 Recall:  0.7894736842105263\n",
      "Neural network - max_iter= 5000 layers= [3, 16, 32, 8, 2] step_size= 0.1\n"
     ]
    },
    {
     "name": "stderr",
     "output_type": "stream",
     "text": [
      "22/10/15 16:09:11 WARN BlockManager: Asked to remove block broadcast_218724, which does not exist\n"
     ]
    }
   ],
   "source": [
    "maxIter=[100, 300, 500, 1000, 2000, 5000]\n",
    "stepSize=[0.5, 0.1, 0.05, 0.01, 0.001]\n",
    "layers=[[3, 16, 32, 8, 2]]\n",
    "\n",
    "best = 0\n",
    "best_mi = 0\n",
    "best_ss = 0\n",
    "best_ly = 0\n",
    "for mi in maxIter:\n",
    "    for ss in stepSize:\n",
    "        for ly in layers:\n",
    "            print(\"Neural network -\",'max_iter=',mi,'layers=',ly, 'step_size=',ss)\n",
    "            start = time.time()\n",
    "            mlp = MultilayerPerceptronClassifier(labelCol=\"stroke\", featuresCol = \"pca_features\", maxIter=mi, layers=ly, stepSize=ss)\n",
    "            mlp_model = mlp.fit(train_oversample_pca)\n",
    "            mlp_predictions = mlp_model.transform(test_pca)\n",
    "            end = time.time()\n",
    "\n",
    "            binary_eval = BinaryClassificationEvaluator(labelCol = 'stroke')\n",
    "            accuracy = binary_eval.evaluate(mlp_predictions)\n",
    "\n",
    "            tp = mlp_predictions[(mlp_predictions.prediction == 1) & (mlp_predictions.stroke == 1)].count()\n",
    "            tn = mlp_predictions[(mlp_predictions.prediction == 0) & (mlp_predictions.stroke == 0)].count()\n",
    "            fn = mlp_predictions[(mlp_predictions.prediction == 0) & (mlp_predictions.stroke == 1)].count()\n",
    "            fp = mlp_predictions[(mlp_predictions.prediction == 1) & (mlp_predictions.stroke == 0)].count()\n",
    "\n",
    "            recall = float((tp)/(tp + fn))\n",
    "            print(\"Accuracy: \",accuracy,\"Recall: \",recall)\n",
    "            acc_rec = accuracy + recall\n",
    "            if acc_rec > best:\n",
    "                best = acc_rec\n",
    "                best_mi = mi\n",
    "                best_ss = ss\n",
    "                best_ly = ly\n",
    "\n",
    "print('Best paramerters for MLP is:\\n', 'max_iter=',best_mi,'layers=',best_ly, 'step_size=',best_ss)"
   ]
  },
  {
   "cell_type": "code",
   "execution_count": null,
   "id": "24eac2dc",
   "metadata": {},
   "outputs": [],
   "source": [
    "maxIter=[100, 300, 500, 1000, 2000, 5000]\n",
    "stepSize=[0.5, 0.1, 0.05, 0.01, 0.001]\n",
    "layers=[[3, 8, 2], \n",
    "       [3, 32, 2],\n",
    "       [3, 8, 32, 2],\n",
    "       [3, 16, 32, 8, 2],\n",
    "       [3, 32, 64, 16, 2]]\n",
    "\n",
    "best = 0\n",
    "best_mi = 0\n",
    "best_ss = 0\n",
    "best_ly = 0\n",
    "for mi in maxIter:\n",
    "    for ss in stepSize:\n",
    "        for ly in layers:\n",
    "            print(\"Neural network -\",'max_iter=',mi,'layers=',ly, 'step_size=',ss)\n",
    "            start = time.time()\n",
    "            mlp = MultilayerPerceptronClassifier(labelCol=\"stroke\", featuresCol = \"pca_features\", maxIter=mi, layers=ly, stepSize=ss)\n",
    "            mlp_model = mlp.fit(train_oversample_pca)\n",
    "            mlp_predictions = mlp_model.transform(test_pca)\n",
    "            end = time.time()\n",
    "\n",
    "            binary_eval = BinaryClassificationEvaluator(labelCol = 'stroke')\n",
    "            accuracy = binary_eval.evaluate(mlp_predictions)\n",
    "\n",
    "            tp = mlp_predictions[(mlp_predictions.prediction == 1) & (mlp_predictions.stroke == 1)].count()\n",
    "            tn = mlp_predictions[(mlp_predictions.prediction == 0) & (mlp_predictions.stroke == 0)].count()\n",
    "            fn = mlp_predictions[(mlp_predictions.prediction == 0) & (mlp_predictions.stroke == 1)].count()\n",
    "            fp = mlp_predictions[(mlp_predictions.prediction == 1) & (mlp_predictions.stroke == 0)].count()\n",
    "\n",
    "            recall = float((tp)/(tp + fn))\n",
    "            print(\"Accuracy: \",accuracy,\"Recall: \",recall)\n",
    "            acc_rec = accuracy + recall\n",
    "            if acc_rec > best:\n",
    "                best = acc_rec\n",
    "                best_mi = mi\n",
    "                best_ss = ss\n",
    "                best_ly = ly\n",
    "\n",
    "print('Best paramerters for MLP is:\\n', 'max_iter=',best_mi,'layers=',best_ly, 'step_size=',best_ss)"
   ]
  }
 ],
 "metadata": {
  "kernelspec": {
   "display_name": "Python 3 (ipykernel)",
   "language": "python",
   "name": "python3"
  },
  "language_info": {
   "codemirror_mode": {
    "name": "ipython",
    "version": 3
   },
   "file_extension": ".py",
   "mimetype": "text/x-python",
   "name": "python",
   "nbconvert_exporter": "python",
   "pygments_lexer": "ipython3",
   "version": "3.10.6"
  }
 },
 "nbformat": 4,
 "nbformat_minor": 5
}
